{
 "cells": [
  {
   "cell_type": "markdown",
   "id": "2a0424ac",
   "metadata": {},
   "source": [
    "# Importing required library "
   ]
  },
  {
   "cell_type": "code",
   "execution_count": 1,
   "id": "f1ddc23d",
   "metadata": {},
   "outputs": [],
   "source": [
    "import numpy as np\n",
    "import pickle\n",
    "import seaborn as sns\n",
    "import pandas as pd\n",
    "import matplotlib.pyplot as plt\n",
    "%matplotlib inline\n",
    "\n",
    "chat gpt\n",
    "from sklearn.model_selection import train_test_split, GridSearchCV\n",
    "from sklearn.metrics import classification_report, confusion_matrix, accuracy_score\n",
    "from sklearn.feature_extraction.text import TfidfTransformer\n",
    "import nltk\n",
    "from nltk.corpus import stopwords\n",
    "from sklearn.feature_extraction.text import CountVectorizer\n",
    "from sklearn.naive_bayes import MultinomialNB\n",
    "from sklearn.pipeline import Pipeline\n",
    "from sklearn.ensemble import RandomForestClassifier\n",
    "from sklearn.tree import DecisionTreeClassifier\n",
    "from sklearn.neighbors import KNeighborsClassifier\n",
    "from sklearn.svm import SVC\n",
    "from sklearn.linear_model import LogisticRegression"
   ]
  },
  {
   "cell_type": "markdown",
   "id": "96943896",
   "metadata": {},
   "source": [
    "# reading the file"
   ]
  },
  {
   "cell_type": "code",
   "execution_count": 94,
   "id": "46e09e82",
   "metadata": {},
   "outputs": [
    {
     "data": {
      "text/html": [
       "<div>\n",
       "<style scoped>\n",
       "    .dataframe tbody tr th:only-of-type {\n",
       "        vertical-align: middle;\n",
       "    }\n",
       "\n",
       "    .dataframe tbody tr th {\n",
       "        vertical-align: top;\n",
       "    }\n",
       "\n",
       "    .dataframe thead th {\n",
       "        text-align: right;\n",
       "    }\n",
       "</style>\n",
       "<table border=\"1\" class=\"dataframe\">\n",
       "  <thead>\n",
       "    <tr style=\"text-align: right;\">\n",
       "      <th></th>\n",
       "      <th>Unnamed: 0</th>\n",
       "      <th>category</th>\n",
       "      <th>rating</th>\n",
       "      <th>label</th>\n",
       "      <th>text_</th>\n",
       "    </tr>\n",
       "  </thead>\n",
       "  <tbody>\n",
       "    <tr>\n",
       "      <th>0</th>\n",
       "      <td>0</td>\n",
       "      <td>Home_and_Kitchen_5</td>\n",
       "      <td>5.0</td>\n",
       "      <td>CG</td>\n",
       "      <td>love well made sturdy comfortable i love very ...</td>\n",
       "    </tr>\n",
       "    <tr>\n",
       "      <th>1</th>\n",
       "      <td>1</td>\n",
       "      <td>Home_and_Kitchen_5</td>\n",
       "      <td>5.0</td>\n",
       "      <td>CG</td>\n",
       "      <td>love great upgrade original i 've mine couple ...</td>\n",
       "    </tr>\n",
       "    <tr>\n",
       "      <th>2</th>\n",
       "      <td>2</td>\n",
       "      <td>Home_and_Kitchen_5</td>\n",
       "      <td>5.0</td>\n",
       "      <td>CG</td>\n",
       "      <td>this pillow saved back i love look feel pillow</td>\n",
       "    </tr>\n",
       "    <tr>\n",
       "      <th>3</th>\n",
       "      <td>3</td>\n",
       "      <td>Home_and_Kitchen_5</td>\n",
       "      <td>1.0</td>\n",
       "      <td>CG</td>\n",
       "      <td>missing information use great product price i</td>\n",
       "    </tr>\n",
       "    <tr>\n",
       "      <th>4</th>\n",
       "      <td>4</td>\n",
       "      <td>Home_and_Kitchen_5</td>\n",
       "      <td>5.0</td>\n",
       "      <td>CG</td>\n",
       "      <td>very nice set good quality we set two months</td>\n",
       "    </tr>\n",
       "    <tr>\n",
       "      <th>...</th>\n",
       "      <td>...</td>\n",
       "      <td>...</td>\n",
       "      <td>...</td>\n",
       "      <td>...</td>\n",
       "      <td>...</td>\n",
       "    </tr>\n",
       "    <tr>\n",
       "      <th>1995</th>\n",
       "      <td>1995</td>\n",
       "      <td>Home_and_Kitchen_5</td>\n",
       "      <td>5.0</td>\n",
       "      <td>OR</td>\n",
       "      <td>solid build quality works well cooking things ...</td>\n",
       "    </tr>\n",
       "    <tr>\n",
       "      <th>1996</th>\n",
       "      <td>1996</td>\n",
       "      <td>Home_and_Kitchen_5</td>\n",
       "      <td>5.0</td>\n",
       "      <td>OR</td>\n",
       "      <td>nice sturdy size shape comes handy 1-cup small...</td>\n",
       "    </tr>\n",
       "    <tr>\n",
       "      <th>1997</th>\n",
       "      <td>1997</td>\n",
       "      <td>Home_and_Kitchen_5</td>\n",
       "      <td>5.0</td>\n",
       "      <td>OR</td>\n",
       "      <td>this great heater bedrooms small medium rooms ...</td>\n",
       "    </tr>\n",
       "    <tr>\n",
       "      <th>1998</th>\n",
       "      <td>1998</td>\n",
       "      <td>Home_and_Kitchen_5</td>\n",
       "      <td>5.0</td>\n",
       "      <td>OR</td>\n",
       "      <td>please note single large 3d skull smaller mult...</td>\n",
       "    </tr>\n",
       "    <tr>\n",
       "      <th>1999</th>\n",
       "      <td>1999</td>\n",
       "      <td>Home_and_Kitchen_5</td>\n",
       "      <td>2.0</td>\n",
       "      <td>OR</td>\n",
       "      <td>i thought would perfect keep work filtered wat...</td>\n",
       "    </tr>\n",
       "  </tbody>\n",
       "</table>\n",
       "<p>2000 rows × 5 columns</p>\n",
       "</div>"
      ],
      "text/plain": [
       "      Unnamed: 0            category  rating label  \\\n",
       "0              0  Home_and_Kitchen_5     5.0    CG   \n",
       "1              1  Home_and_Kitchen_5     5.0    CG   \n",
       "2              2  Home_and_Kitchen_5     5.0    CG   \n",
       "3              3  Home_and_Kitchen_5     1.0    CG   \n",
       "4              4  Home_and_Kitchen_5     5.0    CG   \n",
       "...          ...                 ...     ...   ...   \n",
       "1995        1995  Home_and_Kitchen_5     5.0    OR   \n",
       "1996        1996  Home_and_Kitchen_5     5.0    OR   \n",
       "1997        1997  Home_and_Kitchen_5     5.0    OR   \n",
       "1998        1998  Home_and_Kitchen_5     5.0    OR   \n",
       "1999        1999  Home_and_Kitchen_5     2.0    OR   \n",
       "\n",
       "                                                  text_  \n",
       "0     love well made sturdy comfortable i love very ...  \n",
       "1     love great upgrade original i 've mine couple ...  \n",
       "2        this pillow saved back i love look feel pillow  \n",
       "3         missing information use great product price i  \n",
       "4          very nice set good quality we set two months  \n",
       "...                                                 ...  \n",
       "1995  solid build quality works well cooking things ...  \n",
       "1996  nice sturdy size shape comes handy 1-cup small...  \n",
       "1997  this great heater bedrooms small medium rooms ...  \n",
       "1998  please note single large 3d skull smaller mult...  \n",
       "1999  i thought would perfect keep work filtered wat...  \n",
       "\n",
       "[2000 rows x 5 columns]"
      ]
     },
     "execution_count": 94,
     "metadata": {},
     "output_type": "execute_result"
    }
   ],
   "source": [
    "df = pd.read_csv('Dataset.csv')\n",
    "df=df[:2000]\n",
    "df"
   ]
  },
  {
   "cell_type": "code",
   "execution_count": 95,
   "id": "ec807090",
   "metadata": {},
   "outputs": [],
   "source": [
    "df.drop('Unnamed: 0',axis=1,inplace=True)"
   ]
  },
  {
   "cell_type": "code",
   "execution_count": 96,
   "id": "a5763dfc",
   "metadata": {},
   "outputs": [
    {
     "data": {
      "text/html": [
       "<div>\n",
       "<style scoped>\n",
       "    .dataframe tbody tr th:only-of-type {\n",
       "        vertical-align: middle;\n",
       "    }\n",
       "\n",
       "    .dataframe tbody tr th {\n",
       "        vertical-align: top;\n",
       "    }\n",
       "\n",
       "    .dataframe thead th {\n",
       "        text-align: right;\n",
       "    }\n",
       "</style>\n",
       "<table border=\"1\" class=\"dataframe\">\n",
       "  <thead>\n",
       "    <tr style=\"text-align: right;\">\n",
       "      <th></th>\n",
       "      <th>category</th>\n",
       "      <th>rating</th>\n",
       "      <th>label</th>\n",
       "      <th>text_</th>\n",
       "    </tr>\n",
       "  </thead>\n",
       "  <tbody>\n",
       "    <tr>\n",
       "      <th>0</th>\n",
       "      <td>Home_and_Kitchen_5</td>\n",
       "      <td>5.0</td>\n",
       "      <td>CG</td>\n",
       "      <td>love well made sturdy comfortable i love very ...</td>\n",
       "    </tr>\n",
       "    <tr>\n",
       "      <th>1</th>\n",
       "      <td>Home_and_Kitchen_5</td>\n",
       "      <td>5.0</td>\n",
       "      <td>CG</td>\n",
       "      <td>love great upgrade original i 've mine couple ...</td>\n",
       "    </tr>\n",
       "    <tr>\n",
       "      <th>2</th>\n",
       "      <td>Home_and_Kitchen_5</td>\n",
       "      <td>5.0</td>\n",
       "      <td>CG</td>\n",
       "      <td>this pillow saved back i love look feel pillow</td>\n",
       "    </tr>\n",
       "    <tr>\n",
       "      <th>3</th>\n",
       "      <td>Home_and_Kitchen_5</td>\n",
       "      <td>1.0</td>\n",
       "      <td>CG</td>\n",
       "      <td>missing information use great product price i</td>\n",
       "    </tr>\n",
       "    <tr>\n",
       "      <th>4</th>\n",
       "      <td>Home_and_Kitchen_5</td>\n",
       "      <td>5.0</td>\n",
       "      <td>CG</td>\n",
       "      <td>very nice set good quality we set two months</td>\n",
       "    </tr>\n",
       "    <tr>\n",
       "      <th>...</th>\n",
       "      <td>...</td>\n",
       "      <td>...</td>\n",
       "      <td>...</td>\n",
       "      <td>...</td>\n",
       "    </tr>\n",
       "    <tr>\n",
       "      <th>1995</th>\n",
       "      <td>Home_and_Kitchen_5</td>\n",
       "      <td>5.0</td>\n",
       "      <td>OR</td>\n",
       "      <td>solid build quality works well cooking things ...</td>\n",
       "    </tr>\n",
       "    <tr>\n",
       "      <th>1996</th>\n",
       "      <td>Home_and_Kitchen_5</td>\n",
       "      <td>5.0</td>\n",
       "      <td>OR</td>\n",
       "      <td>nice sturdy size shape comes handy 1-cup small...</td>\n",
       "    </tr>\n",
       "    <tr>\n",
       "      <th>1997</th>\n",
       "      <td>Home_and_Kitchen_5</td>\n",
       "      <td>5.0</td>\n",
       "      <td>OR</td>\n",
       "      <td>this great heater bedrooms small medium rooms ...</td>\n",
       "    </tr>\n",
       "    <tr>\n",
       "      <th>1998</th>\n",
       "      <td>Home_and_Kitchen_5</td>\n",
       "      <td>5.0</td>\n",
       "      <td>OR</td>\n",
       "      <td>please note single large 3d skull smaller mult...</td>\n",
       "    </tr>\n",
       "    <tr>\n",
       "      <th>1999</th>\n",
       "      <td>Home_and_Kitchen_5</td>\n",
       "      <td>2.0</td>\n",
       "      <td>OR</td>\n",
       "      <td>i thought would perfect keep work filtered wat...</td>\n",
       "    </tr>\n",
       "  </tbody>\n",
       "</table>\n",
       "<p>2000 rows × 4 columns</p>\n",
       "</div>"
      ],
      "text/plain": [
       "                category  rating label  \\\n",
       "0     Home_and_Kitchen_5     5.0    CG   \n",
       "1     Home_and_Kitchen_5     5.0    CG   \n",
       "2     Home_and_Kitchen_5     5.0    CG   \n",
       "3     Home_and_Kitchen_5     1.0    CG   \n",
       "4     Home_and_Kitchen_5     5.0    CG   \n",
       "...                  ...     ...   ...   \n",
       "1995  Home_and_Kitchen_5     5.0    OR   \n",
       "1996  Home_and_Kitchen_5     5.0    OR   \n",
       "1997  Home_and_Kitchen_5     5.0    OR   \n",
       "1998  Home_and_Kitchen_5     5.0    OR   \n",
       "1999  Home_and_Kitchen_5     2.0    OR   \n",
       "\n",
       "                                                  text_  \n",
       "0     love well made sturdy comfortable i love very ...  \n",
       "1     love great upgrade original i 've mine couple ...  \n",
       "2        this pillow saved back i love look feel pillow  \n",
       "3         missing information use great product price i  \n",
       "4          very nice set good quality we set two months  \n",
       "...                                                 ...  \n",
       "1995  solid build quality works well cooking things ...  \n",
       "1996  nice sturdy size shape comes handy 1-cup small...  \n",
       "1997  this great heater bedrooms small medium rooms ...  \n",
       "1998  please note single large 3d skull smaller mult...  \n",
       "1999  i thought would perfect keep work filtered wat...  \n",
       "\n",
       "[2000 rows x 4 columns]"
      ]
     },
     "execution_count": 96,
     "metadata": {},
     "output_type": "execute_result"
    }
   ],
   "source": [
    "df.dropna()"
   ]
  },
  {
   "cell_type": "code",
   "execution_count": 97,
   "id": "304aa467",
   "metadata": {},
   "outputs": [],
   "source": [
    "df['length'] = df['text_'].apply(len)"
   ]
  },
  {
   "cell_type": "code",
   "execution_count": 98,
   "id": "e0c47197",
   "metadata": {},
   "outputs": [
    {
     "name": "stdout",
     "output_type": "stream",
     "text": [
      "<class 'pandas.core.frame.DataFrame'>\n",
      "RangeIndex: 2000 entries, 0 to 1999\n",
      "Data columns (total 5 columns):\n",
      " #   Column    Non-Null Count  Dtype  \n",
      "---  ------    --------------  -----  \n",
      " 0   category  2000 non-null   object \n",
      " 1   rating    2000 non-null   float64\n",
      " 2   label     2000 non-null   object \n",
      " 3   text_     2000 non-null   object \n",
      " 4   length    2000 non-null   int64  \n",
      "dtypes: float64(1), int64(1), object(3)\n",
      "memory usage: 78.2+ KB\n"
     ]
    }
   ],
   "source": [
    "df.info()"
   ]
  },
  {
   "cell_type": "code",
   "execution_count": 99,
   "id": "26212775",
   "metadata": {},
   "outputs": [
    {
     "data": {
      "image/png": "[encoded data removed]",
      "text/plain": [
       "<Figure size 640x480 with 1 Axes>"
      ]
     },
     "metadata": {},
     "output_type": "display_data"
    }
   ],
   "source": [
    "plt.plot(df['label']==\"OR\",df['label']==\"CG\")\n",
    "plt.show()\n"
   ]
  },
  {
   "cell_type": "code",
   "execution_count": 100,
   "id": "0eacd3a0",
   "metadata": {},
   "outputs": [
    {
     "data": {
      "image/png": "[encoded data removed]",
      "text/plain": [
       "<Figure size 640x480 with 1 Axes>"
      ]
     },
     "metadata": {},
     "output_type": "display_data"
    }
   ],
   "source": [
    "plt.hist(df['length'],bins=50)\n",
    "plt.show()"
   ]
  },
  {
   "cell_type": "code",
   "execution_count": 101,
   "id": "78e8500d",
   "metadata": {},
   "outputs": [
    {
     "data": {
      "text/html": [
       "<div>\n",
       "<style scoped>\n",
       "    .dataframe tbody tr th:only-of-type {\n",
       "        vertical-align: middle;\n",
       "    }\n",
       "\n",
       "    .dataframe tbody tr th {\n",
       "        vertical-align: top;\n",
       "    }\n",
       "\n",
       "    .dataframe thead tr th {\n",
       "        text-align: left;\n",
       "    }\n",
       "\n",
       "    .dataframe thead tr:last-of-type th {\n",
       "        text-align: right;\n",
       "    }\n",
       "</style>\n",
       "<table border=\"1\" class=\"dataframe\">\n",
       "  <thead>\n",
       "    <tr>\n",
       "      <th></th>\n",
       "      <th colspan=\"8\" halign=\"left\">rating</th>\n",
       "      <th colspan=\"8\" halign=\"left\">length</th>\n",
       "    </tr>\n",
       "    <tr>\n",
       "      <th></th>\n",
       "      <th>count</th>\n",
       "      <th>mean</th>\n",
       "      <th>std</th>\n",
       "      <th>min</th>\n",
       "      <th>25%</th>\n",
       "      <th>50%</th>\n",
       "      <th>75%</th>\n",
       "      <th>max</th>\n",
       "      <th>count</th>\n",
       "      <th>mean</th>\n",
       "      <th>std</th>\n",
       "      <th>min</th>\n",
       "      <th>25%</th>\n",
       "      <th>50%</th>\n",
       "      <th>75%</th>\n",
       "      <th>max</th>\n",
       "    </tr>\n",
       "    <tr>\n",
       "      <th>label</th>\n",
       "      <th></th>\n",
       "      <th></th>\n",
       "      <th></th>\n",
       "      <th></th>\n",
       "      <th></th>\n",
       "      <th></th>\n",
       "      <th></th>\n",
       "      <th></th>\n",
       "      <th></th>\n",
       "      <th></th>\n",
       "      <th></th>\n",
       "      <th></th>\n",
       "      <th></th>\n",
       "      <th></th>\n",
       "      <th></th>\n",
       "      <th></th>\n",
       "    </tr>\n",
       "  </thead>\n",
       "  <tbody>\n",
       "    <tr>\n",
       "      <th>CG</th>\n",
       "      <td>1000.0</td>\n",
       "      <td>4.397</td>\n",
       "      <td>1.113836</td>\n",
       "      <td>1.0</td>\n",
       "      <td>4.0</td>\n",
       "      <td>5.0</td>\n",
       "      <td>5.0</td>\n",
       "      <td>5.0</td>\n",
       "      <td>1000.0</td>\n",
       "      <td>60.288</td>\n",
       "      <td>16.415984</td>\n",
       "      <td>23.0</td>\n",
       "      <td>49.0</td>\n",
       "      <td>57.0</td>\n",
       "      <td>70.0</td>\n",
       "      <td>128.0</td>\n",
       "    </tr>\n",
       "    <tr>\n",
       "      <th>OR</th>\n",
       "      <td>1000.0</td>\n",
       "      <td>4.383</td>\n",
       "      <td>1.120521</td>\n",
       "      <td>1.0</td>\n",
       "      <td>4.0</td>\n",
       "      <td>5.0</td>\n",
       "      <td>5.0</td>\n",
       "      <td>5.0</td>\n",
       "      <td>1000.0</td>\n",
       "      <td>77.267</td>\n",
       "      <td>31.357184</td>\n",
       "      <td>14.0</td>\n",
       "      <td>53.0</td>\n",
       "      <td>74.0</td>\n",
       "      <td>98.0</td>\n",
       "      <td>338.0</td>\n",
       "    </tr>\n",
       "  </tbody>\n",
       "</table>\n",
       "</div>"
      ],
      "text/plain": [
       "       rating                                            length          \\\n",
       "        count   mean       std  min  25%  50%  75%  max   count    mean   \n",
       "label                                                                     \n",
       "CG     1000.0  4.397  1.113836  1.0  4.0  5.0  5.0  5.0  1000.0  60.288   \n",
       "OR     1000.0  4.383  1.120521  1.0  4.0  5.0  5.0  5.0  1000.0  77.267   \n",
       "\n",
       "                                                 \n",
       "             std   min   25%   50%   75%    max  \n",
       "label                                            \n",
       "CG     16.415984  23.0  49.0  57.0  70.0  128.0  \n",
       "OR     31.357184  14.0  53.0  74.0  98.0  338.0  "
      ]
     },
     "execution_count": 101,
     "metadata": {},
     "output_type": "execute_result"
    }
   ],
   "source": [
    "df.groupby('label').describe()"
   ]
  },
  {
   "cell_type": "code",
   "execution_count": 102,
   "id": "c9d5a480",
   "metadata": {},
   "outputs": [
    {
     "data": {
      "text/plain": [
       "count    2000.000000\n",
       "mean       68.777500\n",
       "std        26.422965\n",
       "min        14.000000\n",
       "25%        50.000000\n",
       "50%        63.000000\n",
       "75%        84.000000\n",
       "max       338.000000\n",
       "Name: length, dtype: float64"
      ]
     },
     "execution_count": 102,
     "metadata": {},
     "output_type": "execute_result"
    }
   ],
   "source": [
    "df.length.describe()"
   ]
  },
  {
   "cell_type": "code",
   "execution_count": 103,
   "id": "81649454",
   "metadata": {},
   "outputs": [],
   "source": [
    "def text_process(review):\n",
    "    nopunc = [char for char in review if char not in string.punctuation]\n",
    "    nopunc = ''.join(nopunc)\n",
    "    return [word for word in nopunc.split() if word.lower() not in stopwords.words('english')]\n"
   ]
  },
  {
   "cell_type": "code",
   "execution_count": 104,
   "id": "d3fc209c",
   "metadata": {},
   "outputs": [],
   "source": [
    "bow_transformer = CountVectorizer(analyzer=text_process)\n"
   ]
  },
  {
   "cell_type": "code",
   "execution_count": 105,
   "id": "bdb678ef",
   "metadata": {},
   "outputs": [
    {
     "name": "stdout",
     "output_type": "stream",
     "text": [
      "Total Vocabulary: 3355\n"
     ]
    }
   ],
   "source": [
    "bow_transformer.fit(df['text_'])\n",
    "print(\"Total Vocabulary:\",len(bow_transformer.vocabulary_))"
   ]
  },
  {
   "cell_type": "code",
   "execution_count": 106,
   "id": "07e1d8e5",
   "metadata": {},
   "outputs": [
    {
     "data": {
      "text/plain": [
       "0       love well made sturdy comfortable i love very ...\n",
       "1       love great upgrade original i 've mine couple ...\n",
       "2          this pillow saved back i love look feel pillow\n",
       "3           missing information use great product price i\n",
       "4            very nice set good quality we set two months\n",
       "                              ...                        \n",
       "1995    solid build quality works well cooking things ...\n",
       "1996    nice sturdy size shape comes handy 1-cup small...\n",
       "1997    this great heater bedrooms small medium rooms ...\n",
       "1998    please note single large 3d skull smaller mult...\n",
       "1999    i thought would perfect keep work filtered wat...\n",
       "Name: text_, Length: 2000, dtype: object"
      ]
     },
     "execution_count": 106,
     "metadata": {},
     "output_type": "execute_result"
    }
   ],
   "source": [
    "tdata = df['text_']\n",
    "tdata"
   ]
  },
  {
   "cell_type": "code",
   "execution_count": 107,
   "id": "d6fdd2b0",
   "metadata": {},
   "outputs": [
    {
     "name": "stdout",
     "output_type": "stream",
     "text": [
      "  (0, 1)\t1\n",
      "  (0, 3)\t1\n",
      "  (0, 7)\t1\n",
      "  (0, 8)\t1\n",
      "  (0, 12)\t1\n",
      "  (0, 13)\t1\n",
      "  (0, 14)\t1\n",
      "  (0, 18)\t2\n",
      "  (0, 19)\t2\n",
      "  (0, 21)\t1\n",
      "  (0, 23)\t1\n",
      "  (0, 24)\t2\n",
      "  (0, 27)\t1\n",
      "  (0, 28)\t12\n",
      "  (0, 29)\t1\n",
      "  (0, 30)\t1\n",
      "  (0, 31)\t10\n",
      "  (0, 33)\t1\n",
      "  (0, 34)\t1\n",
      "  (0, 35)\t1\n",
      "  (0, 36)\t1\n",
      "  (0, 37)\t1\n",
      "  (0, 38)\t1\n",
      "  (0, 40)\t1\n",
      "  (0, 41)\t2\n",
      "  :\t:\n",
      "  (0, 3322)\t1\n",
      "  (0, 3323)\t4\n",
      "  (0, 3324)\t1\n",
      "  (0, 3327)\t2\n",
      "  (0, 3329)\t17\n",
      "  (0, 3330)\t33\n",
      "  (0, 3332)\t1\n",
      "  (0, 3333)\t8\n",
      "  (0, 3334)\t3\n",
      "  (0, 3335)\t1\n",
      "  (0, 3336)\t17\n",
      "  (0, 3337)\t1\n",
      "  (0, 3339)\t1\n",
      "  (0, 3340)\t1\n",
      "  (0, 3341)\t1\n",
      "  (0, 3342)\t1\n",
      "  (0, 3343)\t3\n",
      "  (0, 3347)\t1\n",
      "  (0, 3348)\t2\n",
      "  (0, 3349)\t3\n",
      "  (0, 3350)\t1\n",
      "  (0, 3351)\t1\n",
      "  (0, 3352)\t1\n",
      "  (0, 3353)\t1\n",
      "  (0, 3354)\t1\n",
      "(1, 3355)\n"
     ]
    },
    {
     "data": {
      "text/plain": [
       "<1x3355 sparse matrix of type '<class 'numpy.int64'>'\n",
       "\twith 2969 stored elements in Compressed Sparse Row format>"
      ]
     },
     "execution_count": 107,
     "metadata": {},
     "output_type": "execute_result"
    }
   ],
   "source": [
    "bow_msg4 = bow_transformer.transform([tdata])\n",
    "print(bow_msg4)\n",
    "print(bow_msg4.shape)\n",
    "bow_msg4"
   ]
  },
  {
   "cell_type": "code",
   "execution_count": 108,
   "id": "600e72bb",
   "metadata": {},
   "outputs": [
    {
     "name": "stdout",
     "output_type": "stream",
     "text": [
      "noise\n",
      "non\n"
     ]
    }
   ],
   "source": [
    "print(bow_transformer.get_feature_names()[1906])\n",
    "print(bow_transformer.get_feature_names()[1908])"
   ]
  },
  {
   "cell_type": "code",
   "execution_count": 109,
   "id": "b00e702c",
   "metadata": {},
   "outputs": [],
   "source": [
    "bow_reviews = bow_transformer.transform(df['text_'])"
   ]
  },
  {
   "cell_type": "code",
   "execution_count": 110,
   "id": "87b42dd1",
   "metadata": {},
   "outputs": [
    {
     "name": "stdout",
     "output_type": "stream",
     "text": [
      "Shape of Bag of Words Transformer for the entire reviews corpus: (2000, 3355)\n",
      "Amount of non zero values in the bag of words model: 18715\n"
     ]
    }
   ],
   "source": [
    "print(\"Shape of Bag of Words Transformer for the entire reviews corpus:\",bow_reviews.shape)\n",
    "print(\"Amount of non zero values in the bag of words model:\",bow_reviews.nnz)"
   ]
  },
  {
   "cell_type": "code",
   "execution_count": 111,
   "id": "bb8dd9b7",
   "metadata": {},
   "outputs": [
    {
     "name": "stdout",
     "output_type": "stream",
     "text": [
      "Sparsity: 0.28\n"
     ]
    }
   ],
   "source": [
    "print(\"Sparsity:\",np.round((bow_reviews.nnz/(bow_reviews.shape[0]*bow_reviews.shape[1]))*100,2))"
   ]
  },
  {
   "cell_type": "code",
   "execution_count": 112,
   "id": "e9d84aa8",
   "metadata": {},
   "outputs": [
    {
     "name": "stdout",
     "output_type": "stream",
     "text": [
      "  (0, 1)\t1\n",
      "  (0, 3)\t1\n",
      "  (0, 7)\t1\n",
      "  (0, 8)\t1\n",
      "  (0, 12)\t1\n",
      "  (0, 13)\t1\n",
      "  (0, 14)\t1\n",
      "  (0, 18)\t2\n",
      "  (0, 19)\t2\n",
      "  (0, 21)\t1\n",
      "  (0, 23)\t1\n",
      "  (0, 24)\t2\n",
      "  (0, 27)\t1\n",
      "  (0, 28)\t12\n",
      "  (0, 29)\t1\n",
      "  (0, 30)\t1\n",
      "  (0, 31)\t10\n",
      "  (0, 33)\t1\n",
      "  (0, 34)\t1\n",
      "  (0, 35)\t1\n",
      "  (0, 36)\t1\n",
      "  (0, 37)\t1\n",
      "  (0, 38)\t1\n",
      "  (0, 40)\t1\n",
      "  (0, 41)\t2\n",
      "  :\t:\n",
      "  (0, 3322)\t1\n",
      "  (0, 3323)\t4\n",
      "  (0, 3324)\t1\n",
      "  (0, 3327)\t2\n",
      "  (0, 3329)\t17\n",
      "  (0, 3330)\t33\n",
      "  (0, 3332)\t1\n",
      "  (0, 3333)\t8\n",
      "  (0, 3334)\t3\n",
      "  (0, 3335)\t1\n",
      "  (0, 3336)\t17\n",
      "  (0, 3337)\t1\n",
      "  (0, 3339)\t1\n",
      "  (0, 3340)\t1\n",
      "  (0, 3341)\t1\n",
      "  (0, 3342)\t1\n",
      "  (0, 3343)\t3\n",
      "  (0, 3347)\t1\n",
      "  (0, 3348)\t2\n",
      "  (0, 3349)\t3\n",
      "  (0, 3350)\t1\n",
      "  (0, 3351)\t1\n",
      "  (0, 3352)\t1\n",
      "  (0, 3353)\t1\n",
      "  (0, 3354)\t1\n"
     ]
    }
   ],
   "source": [
    "tfidf_transformer = TfidfTransformer().fit(bow_reviews)\n",
    "tfidf_rev4 = tfidf_transformer.transform(bow_msg4)\n",
    "print(bow_msg4)"
   ]
  },
  {
   "cell_type": "code",
   "execution_count": 113,
   "id": "144873ee",
   "metadata": {},
   "outputs": [
    {
     "name": "stdout",
     "output_type": "stream",
     "text": [
      "Shape: (2000, 3355)\n",
      "No. of Dimensions: 2\n"
     ]
    }
   ],
   "source": [
    "tfidf_reviews = tfidf_transformer.transform(bow_reviews)\n",
    "print(\"Shape:\",tfidf_reviews.shape)\n",
    "print(\"No. of Dimensions:\",tfidf_reviews.ndim)"
   ]
  },
  {
   "cell_type": "markdown",
   "id": "f5898fc9",
   "metadata": {},
   "source": [
    "# spliting data  for test and train"
   ]
  },
  {
   "cell_type": "code",
   "execution_count": 114,
   "id": "501767f8",
   "metadata": {},
   "outputs": [],
   "source": [
    "review_train, review_test, label_train, label_test = train_test_split(df['text_'],df['label'],test_size=0.50)"
   ]
  },
  {
   "cell_type": "markdown",
   "id": "e36164b4",
   "metadata": {},
   "source": [
    "# Training and testing Multinomial Naive Bayes Algorithm on the preprocessed data"
   ]
  },
  {
   "cell_type": "code",
   "execution_count": 115,
   "id": "ca4043a3",
   "metadata": {},
   "outputs": [],
   "source": [
    "pipeline = Pipeline([\n",
    "    ('bow',CountVectorizer(analyzer=text_process)),\n",
    "    ('tfidf',TfidfTransformer()),\n",
    "    ('classifier',MultinomialNB())\n",
    "])"
   ]
  },
  {
   "cell_type": "code",
   "execution_count": 116,
   "id": "dd5c82d6",
   "metadata": {},
   "outputs": [
    {
     "data": {
      "text/plain": [
       "Pipeline(steps=[('bow',\n",
       "                 CountVectorizer(analyzer=<function text_process at 0x000002306154DE50>)),\n",
       "                ('tfidf', TfidfTransformer()),\n",
       "                ('classifier', MultinomialNB())])"
      ]
     },
     "execution_count": 116,
     "metadata": {},
     "output_type": "execute_result"
    }
   ],
   "source": [
    "pipeline.fit(review_train,label_train)"
   ]
  },
  {
   "cell_type": "code",
   "execution_count": 117,
   "id": "5c5d2587",
   "metadata": {},
   "outputs": [
    {
     "data": {
      "text/plain": [
       "array(['OR', 'CG', 'CG', 'CG', 'CG', 'OR', 'OR', 'CG', 'CG', 'CG', 'CG',\n",
       "       'CG', 'OR', 'CG', 'CG', 'CG', 'CG', 'OR', 'CG', 'CG', 'CG', 'CG',\n",
       "       'CG', 'OR', 'CG', 'CG', 'CG', 'CG', 'CG', 'OR', 'CG', 'OR', 'OR',\n",
       "       'CG', 'OR', 'CG', 'CG', 'OR', 'CG', 'CG', 'CG', 'CG', 'OR', 'CG',\n",
       "       'CG', 'CG', 'CG', 'CG', 'CG', 'CG', 'CG', 'CG', 'CG', 'CG', 'OR',\n",
       "       'CG', 'OR', 'CG', 'CG', 'CG', 'CG', 'OR', 'CG', 'CG', 'CG', 'CG',\n",
       "       'OR', 'CG', 'CG', 'CG', 'OR', 'CG', 'CG', 'CG', 'OR', 'CG', 'CG',\n",
       "       'CG', 'CG', 'CG', 'CG', 'OR', 'CG', 'CG', 'CG', 'CG', 'OR', 'CG',\n",
       "       'CG', 'CG', 'CG', 'CG', 'CG', 'CG', 'CG', 'CG', 'CG', 'CG', 'CG',\n",
       "       'CG', 'CG', 'CG', 'CG', 'CG', 'CG', 'OR', 'CG', 'CG', 'OR', 'OR',\n",
       "       'OR', 'OR', 'OR', 'CG', 'CG', 'OR', 'CG', 'CG', 'CG', 'OR', 'CG',\n",
       "       'CG', 'OR', 'OR', 'CG', 'OR', 'CG', 'OR', 'OR', 'CG', 'CG', 'CG',\n",
       "       'OR', 'OR', 'OR', 'CG', 'CG', 'CG', 'OR', 'OR', 'OR', 'OR', 'OR',\n",
       "       'CG', 'CG', 'OR', 'CG', 'CG', 'CG', 'CG', 'CG', 'CG', 'CG', 'CG',\n",
       "       'CG', 'CG', 'CG', 'OR', 'CG', 'CG', 'OR', 'CG', 'CG', 'OR', 'CG',\n",
       "       'CG', 'OR', 'CG', 'CG', 'CG', 'CG', 'OR', 'OR', 'CG', 'CG', 'OR',\n",
       "       'CG', 'CG', 'CG', 'CG', 'CG', 'OR', 'CG', 'CG', 'CG', 'CG', 'CG',\n",
       "       'CG', 'CG', 'CG', 'CG', 'CG', 'CG', 'CG', 'CG', 'OR', 'CG', 'OR',\n",
       "       'CG', 'CG', 'CG', 'CG', 'CG', 'CG', 'CG', 'CG', 'OR', 'OR', 'CG',\n",
       "       'CG', 'CG', 'CG', 'CG', 'CG', 'CG', 'CG', 'CG', 'OR', 'CG', 'CG',\n",
       "       'CG', 'CG', 'CG', 'CG', 'CG', 'CG', 'CG', 'CG', 'OR', 'CG', 'CG',\n",
       "       'CG', 'CG', 'CG', 'OR', 'CG', 'CG', 'CG', 'OR', 'OR', 'CG', 'CG',\n",
       "       'CG', 'CG', 'CG', 'CG', 'CG', 'CG', 'CG', 'CG', 'CG', 'CG', 'CG',\n",
       "       'OR', 'CG', 'CG', 'CG', 'CG', 'CG', 'OR', 'CG', 'CG', 'CG', 'CG',\n",
       "       'CG', 'CG', 'CG', 'CG', 'CG', 'CG', 'CG', 'OR', 'CG', 'CG', 'CG',\n",
       "       'CG', 'CG', 'CG', 'CG', 'CG', 'OR', 'CG', 'CG', 'OR', 'CG', 'OR',\n",
       "       'OR', 'OR', 'OR', 'CG', 'CG', 'CG', 'CG', 'CG', 'CG', 'CG', 'CG',\n",
       "       'CG', 'CG', 'CG', 'CG', 'CG', 'OR', 'CG', 'CG', 'CG', 'CG', 'OR',\n",
       "       'CG', 'CG', 'OR', 'CG', 'CG', 'OR', 'CG', 'CG', 'CG', 'CG', 'CG',\n",
       "       'CG', 'CG', 'OR', 'OR', 'CG', 'CG', 'CG', 'CG', 'OR', 'CG', 'CG',\n",
       "       'CG', 'OR', 'CG', 'OR', 'CG', 'CG', 'CG', 'OR', 'CG', 'CG', 'CG',\n",
       "       'CG', 'CG', 'CG', 'CG', 'CG', 'CG', 'CG', 'CG', 'CG', 'CG', 'CG',\n",
       "       'CG', 'OR', 'CG', 'OR', 'CG', 'CG', 'CG', 'CG', 'CG', 'OR', 'OR',\n",
       "       'CG', 'OR', 'CG', 'CG', 'CG', 'OR', 'CG', 'CG', 'OR', 'CG', 'CG',\n",
       "       'CG', 'OR', 'CG', 'CG', 'CG', 'OR', 'CG', 'OR', 'CG', 'CG', 'OR',\n",
       "       'CG', 'OR', 'OR', 'CG', 'CG', 'CG', 'CG', 'CG', 'CG', 'CG', 'CG',\n",
       "       'CG', 'CG', 'CG', 'CG', 'CG', 'CG', 'OR', 'CG', 'CG', 'OR', 'CG',\n",
       "       'CG', 'OR', 'OR', 'CG', 'CG', 'OR', 'CG', 'CG', 'CG', 'CG', 'CG',\n",
       "       'CG', 'OR', 'CG', 'OR', 'CG', 'CG', 'CG', 'CG', 'CG', 'CG', 'OR',\n",
       "       'CG', 'CG', 'OR', 'OR', 'OR', 'CG', 'CG', 'OR', 'CG', 'CG', 'CG',\n",
       "       'CG', 'OR', 'OR', 'CG', 'CG', 'CG', 'CG', 'CG', 'CG', 'OR', 'OR',\n",
       "       'CG', 'CG', 'OR', 'OR', 'CG', 'OR', 'CG', 'OR', 'CG', 'CG', 'CG',\n",
       "       'CG', 'OR', 'CG', 'CG', 'OR', 'CG', 'CG', 'CG', 'CG', 'CG', 'OR',\n",
       "       'OR', 'CG', 'CG', 'OR', 'OR', 'CG', 'CG', 'CG', 'CG', 'CG', 'CG',\n",
       "       'CG', 'CG', 'CG', 'CG', 'CG', 'CG', 'OR', 'OR', 'OR', 'CG', 'CG',\n",
       "       'CG', 'OR', 'CG', 'CG', 'CG', 'OR', 'CG', 'CG', 'CG', 'CG', 'CG',\n",
       "       'OR', 'CG', 'CG', 'CG', 'CG', 'CG', 'CG', 'CG', 'OR', 'CG', 'CG',\n",
       "       'CG', 'CG', 'CG', 'CG', 'CG', 'CG', 'OR', 'CG', 'CG', 'CG', 'OR',\n",
       "       'CG', 'CG', 'CG', 'CG', 'OR', 'CG', 'CG', 'CG', 'OR', 'CG', 'CG',\n",
       "       'CG', 'CG', 'CG', 'OR', 'OR', 'CG', 'CG', 'CG', 'OR', 'CG', 'CG',\n",
       "       'CG', 'CG', 'CG', 'CG', 'CG', 'CG', 'CG', 'CG', 'CG', 'CG', 'CG',\n",
       "       'CG', 'CG', 'CG', 'CG', 'CG', 'CG', 'OR', 'CG', 'CG', 'CG', 'OR',\n",
       "       'CG', 'CG', 'CG', 'OR', 'CG', 'OR', 'CG', 'CG', 'CG', 'CG', 'CG',\n",
       "       'OR', 'CG', 'CG', 'CG', 'OR', 'CG', 'CG', 'CG', 'CG', 'CG', 'CG',\n",
       "       'CG', 'CG', 'CG', 'CG', 'CG', 'CG', 'OR', 'CG', 'CG', 'CG', 'CG',\n",
       "       'OR', 'CG', 'CG', 'OR', 'OR', 'CG', 'CG', 'CG', 'CG', 'CG', 'OR',\n",
       "       'CG', 'CG', 'CG', 'CG', 'CG', 'CG', 'OR', 'CG', 'OR', 'CG', 'CG',\n",
       "       'OR', 'CG', 'OR', 'CG', 'CG', 'CG', 'OR', 'CG', 'CG', 'OR', 'CG',\n",
       "       'CG', 'CG', 'CG', 'CG', 'CG', 'CG', 'CG', 'CG', 'OR', 'CG', 'CG',\n",
       "       'CG', 'OR', 'CG', 'OR', 'CG', 'CG', 'CG', 'CG', 'CG', 'CG', 'CG',\n",
       "       'CG', 'OR', 'OR', 'OR', 'OR', 'CG', 'OR', 'CG', 'OR', 'CG', 'CG',\n",
       "       'CG', 'CG', 'CG', 'CG', 'OR', 'CG', 'CG', 'CG', 'OR', 'OR', 'CG',\n",
       "       'OR', 'CG', 'CG', 'CG', 'CG', 'CG', 'CG', 'CG', 'CG', 'CG', 'CG',\n",
       "       'CG', 'CG', 'CG', 'CG', 'CG', 'OR', 'CG', 'CG', 'CG', 'CG', 'CG',\n",
       "       'CG', 'CG', 'CG', 'CG', 'CG', 'CG', 'CG', 'CG', 'OR', 'CG', 'CG',\n",
       "       'CG', 'CG', 'CG', 'CG', 'CG', 'CG', 'CG', 'CG', 'CG', 'CG', 'CG',\n",
       "       'CG', 'CG', 'CG', 'OR', 'OR', 'CG', 'OR', 'OR', 'CG', 'CG', 'CG',\n",
       "       'CG', 'CG', 'CG', 'CG', 'CG', 'CG', 'CG', 'CG', 'CG', 'OR', 'CG',\n",
       "       'CG', 'CG', 'CG', 'CG', 'CG', 'CG', 'CG', 'CG', 'CG', 'CG', 'CG',\n",
       "       'CG', 'CG', 'CG', 'CG', 'CG', 'CG', 'CG', 'OR', 'CG', 'OR', 'CG',\n",
       "       'CG', 'CG', 'CG', 'CG', 'CG', 'CG', 'CG', 'CG', 'CG', 'CG', 'CG',\n",
       "       'CG', 'CG', 'CG', 'CG', 'CG', 'CG', 'OR', 'OR', 'CG', 'CG', 'OR',\n",
       "       'CG', 'CG', 'CG', 'CG', 'OR', 'OR', 'CG', 'CG', 'OR', 'CG', 'OR',\n",
       "       'CG', 'CG', 'CG', 'CG', 'OR', 'CG', 'CG', 'CG', 'CG', 'CG', 'CG',\n",
       "       'OR', 'CG', 'CG', 'OR', 'CG', 'CG', 'CG', 'OR', 'OR', 'OR', 'OR',\n",
       "       'CG', 'CG', 'OR', 'CG', 'CG', 'CG', 'CG', 'CG', 'OR', 'CG', 'CG',\n",
       "       'OR', 'CG', 'CG', 'CG', 'OR', 'OR', 'OR', 'CG', 'CG', 'CG', 'CG',\n",
       "       'CG', 'OR', 'CG', 'CG', 'CG', 'CG', 'OR', 'CG', 'OR', 'CG', 'OR',\n",
       "       'CG', 'OR', 'OR', 'OR', 'CG', 'CG', 'CG', 'OR', 'CG', 'CG', 'CG',\n",
       "       'CG', 'CG', 'CG', 'OR', 'CG', 'CG', 'CG', 'CG', 'CG', 'CG', 'CG',\n",
       "       'CG', 'CG', 'CG', 'OR', 'OR', 'CG', 'CG', 'CG', 'CG', 'CG', 'OR',\n",
       "       'CG', 'CG', 'CG', 'CG', 'CG', 'CG', 'OR', 'CG', 'CG', 'CG', 'CG',\n",
       "       'OR', 'CG', 'OR', 'CG', 'CG', 'CG', 'OR', 'CG', 'CG', 'OR', 'OR',\n",
       "       'OR', 'OR', 'OR', 'CG', 'OR', 'OR', 'CG', 'CG', 'CG', 'CG', 'CG',\n",
       "       'OR', 'CG', 'CG', 'CG', 'CG', 'CG', 'CG', 'CG', 'CG', 'CG', 'CG',\n",
       "       'CG', 'CG', 'CG', 'OR', 'CG', 'CG', 'OR', 'CG', 'CG', 'OR', 'CG',\n",
       "       'CG', 'CG', 'OR', 'OR', 'CG', 'CG', 'CG', 'CG', 'CG', 'CG', 'CG',\n",
       "       'CG', 'CG', 'CG', 'CG', 'CG', 'CG', 'CG', 'OR', 'OR', 'OR', 'CG',\n",
       "       'CG', 'CG', 'CG', 'CG', 'OR', 'CG', 'CG', 'CG', 'OR', 'OR', 'CG',\n",
       "       'CG', 'OR', 'OR', 'CG', 'OR', 'OR', 'CG', 'CG', 'CG', 'OR', 'CG',\n",
       "       'CG', 'CG', 'CG', 'OR', 'OR', 'CG', 'CG', 'OR', 'CG', 'CG'],\n",
       "      dtype='<U2')"
      ]
     },
     "execution_count": 117,
     "metadata": {},
     "output_type": "execute_result"
    }
   ],
   "source": [
    "MultNB = pipeline.predict(review_test)\n",
    "MultNB"
   ]
  },
  {
   "cell_type": "code",
   "execution_count": 118,
   "id": "f921c833",
   "metadata": {},
   "outputs": [
    {
     "name": "stdout",
     "output_type": "stream",
     "text": [
      "Classification Report:               precision    recall  f1-score   support\n",
      "\n",
      "          CG       0.57      0.94      0.71       468\n",
      "          OR       0.88      0.39      0.54       532\n",
      "\n",
      "    accuracy                           0.65      1000\n",
      "   macro avg       0.73      0.66      0.63      1000\n",
      "weighted avg       0.74      0.65      0.62      1000\n",
      "\n",
      "Confusion Matrix: [[441  27]\n",
      " [326 206]]\n",
      "Accuracy Score: 0.647\n",
      "Model Prediction Accuracy: 64.7%\n"
     ]
    }
   ],
   "source": [
    "print('Classification Report:',classification_report(label_test,MultNB))\n",
    "print('Confusion Matrix:',confusion_matrix(label_test,MultNB))\n",
    "print('Accuracy Score:',accuracy_score(label_test,MultNB))\n",
    "print('Model Prediction Accuracy:',str(np.round(accuracy_score(label_test,MultNB)*100,2)) + '%')"
   ]
  },
  {
   "cell_type": "markdown",
   "id": "fff2ba15",
   "metadata": {},
   "source": [
    "# Random forest classifier"
   ]
  },
  {
   "cell_type": "code",
   "execution_count": 119,
   "id": "ce7083df",
   "metadata": {},
   "outputs": [],
   "source": [
    "pipeline = Pipeline([\n",
    "    ('bow',CountVectorizer(analyzer=text_process)),\n",
    "    ('tfidf',TfidfTransformer()),\n",
    "    ('classifier',RandomForestClassifier())\n",
    "])"
   ]
  },
  {
   "cell_type": "code",
   "execution_count": 120,
   "id": "7e5aad6e",
   "metadata": {},
   "outputs": [
    {
     "data": {
      "text/plain": [
       "Pipeline(steps=[('bow',\n",
       "                 CountVectorizer(analyzer=<function text_process at 0x000002306154DE50>)),\n",
       "                ('tfidf', TfidfTransformer()),\n",
       "                ('classifier', RandomForestClassifier())])"
      ]
     },
     "execution_count": 120,
     "metadata": {},
     "output_type": "execute_result"
    }
   ],
   "source": [
    "pipeline.fit(review_train,label_train)"
   ]
  },
  {
   "cell_type": "code",
   "execution_count": 121,
   "id": "0ab07e65",
   "metadata": {},
   "outputs": [
    {
     "data": {
      "text/plain": [
       "array(['OR', 'CG', 'CG', 'CG', 'CG', 'OR', 'OR', 'CG', 'CG', 'CG', 'CG',\n",
       "       'CG', 'OR', 'CG', 'OR', 'OR', 'OR', 'OR', 'OR', 'OR', 'OR', 'CG',\n",
       "       'CG', 'OR', 'CG', 'CG', 'CG', 'OR', 'CG', 'OR', 'CG', 'OR', 'CG',\n",
       "       'OR', 'CG', 'CG', 'CG', 'OR', 'CG', 'CG', 'CG', 'OR', 'OR', 'CG',\n",
       "       'CG', 'CG', 'CG', 'CG', 'CG', 'CG', 'CG', 'OR', 'OR', 'OR', 'OR',\n",
       "       'CG', 'OR', 'CG', 'CG', 'CG', 'OR', 'OR', 'OR', 'CG', 'CG', 'CG',\n",
       "       'OR', 'CG', 'OR', 'CG', 'OR', 'OR', 'CG', 'CG', 'OR', 'CG', 'OR',\n",
       "       'OR', 'CG', 'CG', 'CG', 'CG', 'CG', 'CG', 'OR', 'OR', 'OR', 'CG',\n",
       "       'OR', 'CG', 'OR', 'CG', 'CG', 'CG', 'OR', 'CG', 'CG', 'CG', 'CG',\n",
       "       'CG', 'CG', 'OR', 'CG', 'CG', 'OR', 'OR', 'CG', 'CG', 'OR', 'CG',\n",
       "       'OR', 'OR', 'OR', 'CG', 'CG', 'OR', 'CG', 'CG', 'CG', 'CG', 'OR',\n",
       "       'OR', 'OR', 'OR', 'CG', 'OR', 'CG', 'OR', 'OR', 'CG', 'OR', 'CG',\n",
       "       'OR', 'OR', 'OR', 'CG', 'CG', 'CG', 'OR', 'OR', 'OR', 'OR', 'OR',\n",
       "       'OR', 'OR', 'CG', 'CG', 'OR', 'CG', 'CG', 'CG', 'OR', 'OR', 'CG',\n",
       "       'CG', 'CG', 'CG', 'OR', 'CG', 'CG', 'OR', 'OR', 'OR', 'OR', 'CG',\n",
       "       'CG', 'OR', 'OR', 'CG', 'CG', 'CG', 'OR', 'OR', 'CG', 'CG', 'OR',\n",
       "       'CG', 'OR', 'CG', 'CG', 'CG', 'OR', 'CG', 'OR', 'CG', 'CG', 'CG',\n",
       "       'OR', 'CG', 'CG', 'OR', 'CG', 'CG', 'OR', 'CG', 'OR', 'CG', 'OR',\n",
       "       'CG', 'CG', 'OR', 'OR', 'CG', 'OR', 'CG', 'CG', 'OR', 'OR', 'OR',\n",
       "       'OR', 'CG', 'OR', 'CG', 'CG', 'CG', 'OR', 'CG', 'OR', 'CG', 'OR',\n",
       "       'CG', 'CG', 'CG', 'CG', 'CG', 'CG', 'CG', 'CG', 'OR', 'CG', 'OR',\n",
       "       'OR', 'CG', 'OR', 'OR', 'CG', 'CG', 'CG', 'OR', 'OR', 'CG', 'OR',\n",
       "       'CG', 'CG', 'CG', 'OR', 'CG', 'CG', 'CG', 'CG', 'OR', 'CG', 'CG',\n",
       "       'OR', 'CG', 'CG', 'CG', 'CG', 'CG', 'CG', 'CG', 'CG', 'CG', 'CG',\n",
       "       'OR', 'CG', 'CG', 'CG', 'CG', 'OR', 'OR', 'OR', 'CG', 'CG', 'CG',\n",
       "       'CG', 'CG', 'CG', 'CG', 'CG', 'OR', 'CG', 'CG', 'OR', 'CG', 'OR',\n",
       "       'OR', 'OR', 'OR', 'CG', 'CG', 'OR', 'OR', 'CG', 'OR', 'CG', 'CG',\n",
       "       'CG', 'CG', 'CG', 'CG', 'CG', 'OR', 'CG', 'CG', 'CG', 'CG', 'CG',\n",
       "       'CG', 'OR', 'CG', 'CG', 'CG', 'CG', 'OR', 'OR', 'CG', 'OR', 'OR',\n",
       "       'OR', 'CG', 'OR', 'OR', 'CG', 'CG', 'CG', 'CG', 'OR', 'CG', 'CG',\n",
       "       'OR', 'CG', 'CG', 'OR', 'CG', 'CG', 'CG', 'CG', 'CG', 'OR', 'OR',\n",
       "       'CG', 'CG', 'OR', 'CG', 'CG', 'OR', 'CG', 'CG', 'CG', 'CG', 'CG',\n",
       "       'CG', 'CG', 'OR', 'OR', 'OR', 'CG', 'CG', 'OR', 'CG', 'OR', 'OR',\n",
       "       'OR', 'OR', 'CG', 'CG', 'CG', 'OR', 'CG', 'CG', 'CG', 'OR', 'OR',\n",
       "       'CG', 'OR', 'CG', 'OR', 'OR', 'OR', 'CG', 'OR', 'CG', 'OR', 'OR',\n",
       "       'CG', 'CG', 'OR', 'OR', 'OR', 'OR', 'CG', 'OR', 'CG', 'CG', 'CG',\n",
       "       'CG', 'OR', 'CG', 'CG', 'CG', 'CG', 'OR', 'CG', 'CG', 'OR', 'OR',\n",
       "       'CG', 'OR', 'CG', 'OR', 'OR', 'OR', 'CG', 'CG', 'CG', 'CG', 'CG',\n",
       "       'OR', 'OR', 'OR', 'OR', 'CG', 'CG', 'CG', 'CG', 'CG', 'CG', 'OR',\n",
       "       'CG', 'CG', 'OR', 'OR', 'OR', 'CG', 'CG', 'CG', 'CG', 'OR', 'CG',\n",
       "       'CG', 'OR', 'OR', 'OR', 'OR', 'CG', 'OR', 'CG', 'CG', 'CG', 'OR',\n",
       "       'CG', 'CG', 'OR', 'OR', 'CG', 'OR', 'CG', 'OR', 'CG', 'OR', 'OR',\n",
       "       'CG', 'CG', 'OR', 'CG', 'OR', 'OR', 'CG', 'CG', 'CG', 'CG', 'OR',\n",
       "       'OR', 'OR', 'CG', 'OR', 'CG', 'CG', 'CG', 'CG', 'OR', 'CG', 'CG',\n",
       "       'OR', 'CG', 'CG', 'OR', 'CG', 'CG', 'OR', 'OR', 'OR', 'OR', 'CG',\n",
       "       'CG', 'OR', 'OR', 'CG', 'CG', 'OR', 'CG', 'CG', 'CG', 'CG', 'CG',\n",
       "       'OR', 'CG', 'CG', 'CG', 'OR', 'CG', 'CG', 'CG', 'OR', 'OR', 'CG',\n",
       "       'CG', 'CG', 'CG', 'CG', 'CG', 'CG', 'OR', 'CG', 'CG', 'CG', 'OR',\n",
       "       'CG', 'CG', 'CG', 'CG', 'CG', 'CG', 'CG', 'OR', 'OR', 'CG', 'OR',\n",
       "       'OR', 'CG', 'CG', 'OR', 'OR', 'CG', 'CG', 'CG', 'CG', 'CG', 'OR',\n",
       "       'OR', 'OR', 'OR', 'CG', 'CG', 'CG', 'CG', 'CG', 'CG', 'OR', 'CG',\n",
       "       'OR', 'CG', 'CG', 'CG', 'CG', 'CG', 'OR', 'CG', 'CG', 'OR', 'OR',\n",
       "       'CG', 'CG', 'OR', 'OR', 'CG', 'OR', 'CG', 'CG', 'CG', 'CG', 'CG',\n",
       "       'OR', 'CG', 'CG', 'CG', 'OR', 'CG', 'OR', 'CG', 'CG', 'CG', 'CG',\n",
       "       'CG', 'CG', 'OR', 'CG', 'CG', 'CG', 'OR', 'CG', 'CG', 'CG', 'CG',\n",
       "       'OR', 'OR', 'CG', 'OR', 'OR', 'OR', 'CG', 'CG', 'OR', 'OR', 'OR',\n",
       "       'CG', 'CG', 'OR', 'CG', 'CG', 'CG', 'CG', 'OR', 'CG', 'CG', 'CG',\n",
       "       'OR', 'CG', 'OR', 'CG', 'CG', 'CG', 'OR', 'OR', 'CG', 'OR', 'OR',\n",
       "       'CG', 'CG', 'OR', 'CG', 'CG', 'CG', 'CG', 'CG', 'CG', 'CG', 'CG',\n",
       "       'CG', 'OR', 'CG', 'OR', 'CG', 'CG', 'CG', 'CG', 'CG', 'OR', 'CG',\n",
       "       'CG', 'OR', 'OR', 'OR', 'OR', 'CG', 'OR', 'OR', 'OR', 'CG', 'CG',\n",
       "       'OR', 'OR', 'OR', 'CG', 'OR', 'OR', 'CG', 'CG', 'OR', 'CG', 'OR',\n",
       "       'OR', 'CG', 'OR', 'OR', 'CG', 'CG', 'CG', 'CG', 'CG', 'OR', 'CG',\n",
       "       'CG', 'CG', 'CG', 'CG', 'CG', 'OR', 'CG', 'OR', 'CG', 'OR', 'CG',\n",
       "       'OR', 'OR', 'CG', 'CG', 'CG', 'CG', 'CG', 'CG', 'OR', 'OR', 'CG',\n",
       "       'CG', 'CG', 'CG', 'CG', 'CG', 'CG', 'CG', 'CG', 'CG', 'CG', 'OR',\n",
       "       'CG', 'CG', 'CG', 'OR', 'CG', 'CG', 'OR', 'CG', 'CG', 'OR', 'CG',\n",
       "       'CG', 'OR', 'CG', 'CG', 'OR', 'CG', 'CG', 'CG', 'CG', 'OR', 'CG',\n",
       "       'CG', 'CG', 'CG', 'CG', 'OR', 'CG', 'OR', 'CG', 'CG', 'CG', 'CG',\n",
       "       'CG', 'CG', 'CG', 'CG', 'OR', 'CG', 'OR', 'OR', 'CG', 'OR', 'OR',\n",
       "       'OR', 'CG', 'OR', 'OR', 'CG', 'CG', 'OR', 'OR', 'CG', 'OR', 'CG',\n",
       "       'CG', 'CG', 'OR', 'CG', 'CG', 'OR', 'OR', 'OR', 'CG', 'CG', 'OR',\n",
       "       'CG', 'CG', 'OR', 'CG', 'OR', 'OR', 'CG', 'CG', 'OR', 'CG', 'OR',\n",
       "       'OR', 'CG', 'CG', 'CG', 'OR', 'OR', 'OR', 'CG', 'CG', 'OR', 'CG',\n",
       "       'OR', 'CG', 'CG', 'CG', 'OR', 'CG', 'CG', 'OR', 'OR', 'OR', 'OR',\n",
       "       'CG', 'CG', 'OR', 'CG', 'CG', 'OR', 'CG', 'CG', 'OR', 'CG', 'CG',\n",
       "       'CG', 'CG', 'OR', 'CG', 'OR', 'OR', 'OR', 'OR', 'CG', 'CG', 'CG',\n",
       "       'CG', 'OR', 'OR', 'CG', 'CG', 'CG', 'CG', 'CG', 'OR', 'CG', 'OR',\n",
       "       'OR', 'OR', 'OR', 'OR', 'CG', 'OR', 'OR', 'OR', 'CG', 'CG', 'CG',\n",
       "       'CG', 'CG', 'CG', 'OR', 'OR', 'CG', 'OR', 'OR', 'CG', 'CG', 'OR',\n",
       "       'CG', 'CG', 'CG', 'OR', 'OR', 'CG', 'CG', 'CG', 'CG', 'CG', 'OR',\n",
       "       'CG', 'CG', 'OR', 'CG', 'CG', 'OR', 'OR', 'CG', 'CG', 'CG', 'OR',\n",
       "       'OR', 'CG', 'OR', 'CG', 'CG', 'OR', 'OR', 'OR', 'OR', 'OR', 'OR',\n",
       "       'OR', 'OR', 'OR', 'CG', 'CG', 'CG', 'CG', 'OR', 'CG', 'CG', 'CG',\n",
       "       'OR', 'CG', 'CG', 'CG', 'OR', 'CG', 'CG', 'OR', 'CG', 'CG', 'OR',\n",
       "       'CG', 'CG', 'CG', 'CG', 'OR', 'OR', 'OR', 'CG', 'CG', 'OR', 'CG',\n",
       "       'OR', 'CG', 'OR', 'CG', 'OR', 'CG', 'CG', 'CG', 'CG', 'CG', 'CG',\n",
       "       'CG', 'OR', 'CG', 'OR', 'CG', 'CG', 'CG', 'OR', 'OR', 'OR', 'CG',\n",
       "       'CG', 'OR', 'CG', 'CG', 'CG', 'CG', 'CG', 'OR', 'OR', 'OR', 'CG',\n",
       "       'OR', 'OR', 'OR', 'CG', 'OR', 'OR', 'CG', 'CG', 'CG', 'OR', 'CG',\n",
       "       'CG', 'CG', 'CG', 'OR', 'OR', 'CG', 'CG', 'CG', 'CG', 'CG'],\n",
       "      dtype=object)"
      ]
     },
     "execution_count": 121,
     "metadata": {},
     "output_type": "execute_result"
    }
   ],
   "source": [
    "rfc_pred = pipeline.predict(review_test)\n",
    "rfc_pred"
   ]
  },
  {
   "cell_type": "code",
   "execution_count": 122,
   "id": "68e19966",
   "metadata": {},
   "outputs": [
    {
     "name": "stdout",
     "output_type": "stream",
     "text": [
      "Classification Report:               precision    recall  f1-score   support\n",
      "\n",
      "          CG       0.65      0.85      0.74       468\n",
      "          OR       0.82      0.60      0.69       532\n",
      "\n",
      "    accuracy                           0.72      1000\n",
      "   macro avg       0.73      0.72      0.72      1000\n",
      "weighted avg       0.74      0.72      0.71      1000\n",
      "\n",
      "Confusion Matrix: [[396  72]\n",
      " [211 321]]\n",
      "Accuracy Score: 0.717\n",
      "Model Prediction Accuracy: 71.7%\n"
     ]
    }
   ],
   "source": [
    "print('Classification Report:',classification_report(label_test,rfc_pred))\n",
    "print('Confusion Matrix:',confusion_matrix(label_test,rfc_pred))\n",
    "print('Accuracy Score:',accuracy_score(label_test,rfc_pred))\n",
    "print('Model Prediction Accuracy:',str(np.round(accuracy_score(label_test,rfc_pred)*100,2)) + '%')"
   ]
  },
  {
   "cell_type": "markdown",
   "id": "d4ef62be",
   "metadata": {},
   "source": [
    "# DecisionTreeClassifier"
   ]
  },
  {
   "cell_type": "code",
   "execution_count": 123,
   "id": "0c018b28",
   "metadata": {},
   "outputs": [],
   "source": [
    "pipeline = Pipeline([\n",
    "    ('bow',CountVectorizer(analyzer=text_process)),\n",
    "    ('tfidf',TfidfTransformer()),\n",
    "    ('classifier',DecisionTreeClassifier())\n",
    "])"
   ]
  },
  {
   "cell_type": "code",
   "execution_count": 124,
   "id": "9e33916b",
   "metadata": {},
   "outputs": [
    {
     "data": {
      "text/plain": [
       "Pipeline(steps=[('bow',\n",
       "                 CountVectorizer(analyzer=<function text_process at 0x000002306154DE50>)),\n",
       "                ('tfidf', TfidfTransformer()),\n",
       "                ('classifier', DecisionTreeClassifier())])"
      ]
     },
     "execution_count": 124,
     "metadata": {},
     "output_type": "execute_result"
    }
   ],
   "source": [
    "pipeline.fit(review_train,label_train)"
   ]
  },
  {
   "cell_type": "code",
   "execution_count": 125,
   "id": "5e483f90",
   "metadata": {},
   "outputs": [
    {
     "data": {
      "text/plain": [
       "array(['OR', 'OR', 'OR', 'CG', 'OR', 'OR', 'OR', 'CG', 'OR', 'CG', 'CG',\n",
       "       'CG', 'OR', 'CG', 'OR', 'OR', 'OR', 'OR', 'OR', 'OR', 'OR', 'CG',\n",
       "       'CG', 'OR', 'CG', 'CG', 'OR', 'OR', 'CG', 'OR', 'OR', 'OR', 'OR',\n",
       "       'OR', 'CG', 'OR', 'CG', 'OR', 'OR', 'CG', 'CG', 'OR', 'OR', 'OR',\n",
       "       'CG', 'OR', 'CG', 'OR', 'CG', 'CG', 'CG', 'OR', 'OR', 'OR', 'OR',\n",
       "       'CG', 'OR', 'OR', 'CG', 'OR', 'OR', 'OR', 'OR', 'CG', 'CG', 'CG',\n",
       "       'OR', 'CG', 'OR', 'CG', 'OR', 'CG', 'CG', 'OR', 'OR', 'CG', 'CG',\n",
       "       'OR', 'CG', 'CG', 'OR', 'CG', 'CG', 'CG', 'OR', 'OR', 'OR', 'CG',\n",
       "       'OR', 'CG', 'OR', 'CG', 'OR', 'CG', 'OR', 'CG', 'CG', 'CG', 'CG',\n",
       "       'CG', 'CG', 'OR', 'CG', 'CG', 'CG', 'OR', 'OR', 'CG', 'OR', 'CG',\n",
       "       'CG', 'CG', 'OR', 'CG', 'CG', 'OR', 'CG', 'CG', 'CG', 'OR', 'OR',\n",
       "       'OR', 'CG', 'CG', 'CG', 'OR', 'CG', 'OR', 'CG', 'CG', 'OR', 'CG',\n",
       "       'OR', 'OR', 'OR', 'CG', 'OR', 'CG', 'OR', 'OR', 'OR', 'OR', 'OR',\n",
       "       'OR', 'OR', 'CG', 'CG', 'OR', 'OR', 'OR', 'CG', 'OR', 'OR', 'CG',\n",
       "       'CG', 'CG', 'OR', 'OR', 'CG', 'CG', 'OR', 'CG', 'OR', 'OR', 'CG',\n",
       "       'CG', 'OR', 'OR', 'CG', 'CG', 'CG', 'OR', 'OR', 'CG', 'CG', 'CG',\n",
       "       'CG', 'OR', 'CG', 'CG', 'CG', 'OR', 'CG', 'CG', 'CG', 'CG', 'CG',\n",
       "       'CG', 'CG', 'CG', 'OR', 'OR', 'CG', 'OR', 'CG', 'OR', 'CG', 'OR',\n",
       "       'OR', 'OR', 'OR', 'OR', 'CG', 'OR', 'CG', 'CG', 'OR', 'CG', 'OR',\n",
       "       'OR', 'CG', 'OR', 'CG', 'CG', 'CG', 'OR', 'CG', 'CG', 'OR', 'OR',\n",
       "       'OR', 'CG', 'CG', 'OR', 'CG', 'CG', 'CG', 'OR', 'OR', 'OR', 'OR',\n",
       "       'OR', 'CG', 'OR', 'OR', 'OR', 'OR', 'OR', 'OR', 'OR', 'CG', 'OR',\n",
       "       'CG', 'CG', 'CG', 'OR', 'CG', 'OR', 'CG', 'CG', 'OR', 'OR', 'OR',\n",
       "       'CG', 'CG', 'CG', 'OR', 'OR', 'CG', 'OR', 'OR', 'OR', 'CG', 'CG',\n",
       "       'OR', 'OR', 'CG', 'CG', 'CG', 'OR', 'CG', 'OR', 'CG', 'CG', 'OR',\n",
       "       'CG', 'CG', 'CG', 'CG', 'OR', 'OR', 'CG', 'CG', 'OR', 'OR', 'CG',\n",
       "       'OR', 'OR', 'OR', 'CG', 'CG', 'OR', 'OR', 'CG', 'CG', 'OR', 'CG',\n",
       "       'CG', 'CG', 'CG', 'CG', 'OR', 'OR', 'CG', 'OR', 'OR', 'CG', 'OR',\n",
       "       'CG', 'CG', 'CG', 'CG', 'CG', 'OR', 'CG', 'OR', 'OR', 'OR', 'OR',\n",
       "       'OR', 'OR', 'OR', 'OR', 'CG', 'CG', 'CG', 'CG', 'OR', 'CG', 'CG',\n",
       "       'CG', 'OR', 'OR', 'OR', 'CG', 'CG', 'OR', 'CG', 'CG', 'OR', 'OR',\n",
       "       'CG', 'CG', 'OR', 'CG', 'CG', 'OR', 'CG', 'CG', 'CG', 'CG', 'OR',\n",
       "       'CG', 'CG', 'OR', 'OR', 'OR', 'CG', 'CG', 'OR', 'CG', 'OR', 'OR',\n",
       "       'CG', 'OR', 'CG', 'OR', 'CG', 'CG', 'OR', 'CG', 'CG', 'OR', 'CG',\n",
       "       'CG', 'OR', 'CG', 'OR', 'CG', 'OR', 'CG', 'OR', 'CG', 'CG', 'CG',\n",
       "       'OR', 'OR', 'OR', 'OR', 'OR', 'CG', 'CG', 'OR', 'CG', 'CG', 'OR',\n",
       "       'OR', 'OR', 'OR', 'OR', 'OR', 'CG', 'OR', 'CG', 'OR', 'OR', 'OR',\n",
       "       'OR', 'OR', 'CG', 'OR', 'OR', 'OR', 'CG', 'OR', 'CG', 'CG', 'CG',\n",
       "       'OR', 'OR', 'OR', 'OR', 'OR', 'CG', 'CG', 'CG', 'CG', 'OR', 'OR',\n",
       "       'CG', 'CG', 'OR', 'OR', 'OR', 'OR', 'CG', 'CG', 'CG', 'CG', 'CG',\n",
       "       'CG', 'CG', 'OR', 'OR', 'CG', 'CG', 'OR', 'CG', 'CG', 'CG', 'OR',\n",
       "       'CG', 'CG', 'OR', 'OR', 'CG', 'OR', 'CG', 'OR', 'OR', 'CG', 'CG',\n",
       "       'CG', 'CG', 'OR', 'OR', 'OR', 'CG', 'CG', 'CG', 'CG', 'CG', 'OR',\n",
       "       'OR', 'OR', 'OR', 'OR', 'CG', 'CG', 'CG', 'CG', 'OR', 'CG', 'OR',\n",
       "       'OR', 'CG', 'CG', 'CG', 'CG', 'CG', 'CG', 'OR', 'OR', 'CG', 'OR',\n",
       "       'CG', 'OR', 'OR', 'CG', 'CG', 'OR', 'OR', 'OR', 'CG', 'CG', 'CG',\n",
       "       'OR', 'OR', 'CG', 'CG', 'OR', 'CG', 'OR', 'CG', 'OR', 'OR', 'OR',\n",
       "       'CG', 'CG', 'CG', 'CG', 'CG', 'CG', 'CG', 'CG', 'CG', 'CG', 'OR',\n",
       "       'OR', 'CG', 'CG', 'CG', 'OR', 'CG', 'OR', 'CG', 'OR', 'CG', 'OR',\n",
       "       'OR', 'CG', 'CG', 'OR', 'OR', 'CG', 'CG', 'CG', 'CG', 'CG', 'OR',\n",
       "       'OR', 'OR', 'OR', 'CG', 'CG', 'CG', 'OR', 'CG', 'OR', 'OR', 'CG',\n",
       "       'OR', 'OR', 'CG', 'CG', 'CG', 'CG', 'OR', 'CG', 'CG', 'CG', 'OR',\n",
       "       'CG', 'CG', 'OR', 'OR', 'CG', 'OR', 'CG', 'CG', 'CG', 'CG', 'OR',\n",
       "       'OR', 'OR', 'CG', 'CG', 'OR', 'CG', 'OR', 'OR', 'OR', 'CG', 'CG',\n",
       "       'CG', 'OR', 'CG', 'CG', 'OR', 'CG', 'OR', 'CG', 'OR', 'CG', 'CG',\n",
       "       'OR', 'OR', 'OR', 'OR', 'CG', 'OR', 'CG', 'CG', 'OR', 'OR', 'OR',\n",
       "       'CG', 'OR', 'OR', 'CG', 'CG', 'CG', 'OR', 'OR', 'OR', 'CG', 'OR',\n",
       "       'OR', 'CG', 'CG', 'CG', 'CG', 'OR', 'OR', 'CG', 'OR', 'CG', 'CG',\n",
       "       'OR', 'CG', 'OR', 'CG', 'CG', 'CG', 'CG', 'CG', 'OR', 'CG', 'CG',\n",
       "       'CG', 'OR', 'OR', 'OR', 'CG', 'CG', 'CG', 'CG', 'CG', 'CG', 'CG',\n",
       "       'CG', 'OR', 'CG', 'OR', 'CG', 'OR', 'OR', 'OR', 'OR', 'OR', 'CG',\n",
       "       'OR', 'OR', 'OR', 'CG', 'OR', 'OR', 'CG', 'CG', 'OR', 'CG', 'CG',\n",
       "       'OR', 'CG', 'OR', 'OR', 'CG', 'OR', 'CG', 'CG', 'OR', 'CG', 'CG',\n",
       "       'OR', 'CG', 'CG', 'CG', 'OR', 'OR', 'CG', 'OR', 'CG', 'OR', 'CG',\n",
       "       'OR', 'CG', 'CG', 'CG', 'CG', 'CG', 'CG', 'CG', 'OR', 'CG', 'CG',\n",
       "       'CG', 'OR', 'OR', 'CG', 'CG', 'CG', 'CG', 'OR', 'CG', 'CG', 'OR',\n",
       "       'OR', 'CG', 'CG', 'OR', 'CG', 'CG', 'OR', 'OR', 'CG', 'OR', 'CG',\n",
       "       'CG', 'OR', 'CG', 'CG', 'OR', 'CG', 'CG', 'CG', 'CG', 'CG', 'OR',\n",
       "       'CG', 'CG', 'CG', 'OR', 'OR', 'CG', 'OR', 'OR', 'CG', 'OR', 'CG',\n",
       "       'CG', 'CG', 'CG', 'CG', 'OR', 'CG', 'OR', 'OR', 'CG', 'CG', 'CG',\n",
       "       'CG', 'CG', 'OR', 'OR', 'CG', 'CG', 'CG', 'OR', 'CG', 'OR', 'CG',\n",
       "       'CG', 'CG', 'OR', 'CG', 'OR', 'OR', 'OR', 'CG', 'CG', 'CG', 'OR',\n",
       "       'CG', 'OR', 'OR', 'OR', 'OR', 'OR', 'OR', 'CG', 'OR', 'CG', 'OR',\n",
       "       'OR', 'CG', 'CG', 'CG', 'OR', 'OR', 'CG', 'CG', 'CG', 'CG', 'OR',\n",
       "       'OR', 'OR', 'CG', 'OR', 'CG', 'CG', 'CG', 'OR', 'CG', 'OR', 'CG',\n",
       "       'CG', 'CG', 'OR', 'OR', 'CG', 'OR', 'OR', 'CG', 'OR', 'OR', 'CG',\n",
       "       'OR', 'CG', 'OR', 'CG', 'CG', 'OR', 'OR', 'CG', 'OR', 'CG', 'OR',\n",
       "       'CG', 'OR', 'OR', 'CG', 'CG', 'OR', 'CG', 'OR', 'CG', 'OR', 'OR',\n",
       "       'OR', 'CG', 'OR', 'OR', 'CG', 'OR', 'OR', 'OR', 'CG', 'CG', 'OR',\n",
       "       'OR', 'OR', 'CG', 'OR', 'CG', 'CG', 'OR', 'CG', 'CG', 'CG', 'CG',\n",
       "       'CG', 'OR', 'CG', 'OR', 'OR', 'CG', 'CG', 'CG', 'CG', 'OR', 'OR',\n",
       "       'CG', 'CG', 'CG', 'CG', 'CG', 'OR', 'OR', 'CG', 'CG', 'CG', 'OR',\n",
       "       'OR', 'OR', 'OR', 'CG', 'CG', 'OR', 'OR', 'CG', 'OR', 'CG', 'OR',\n",
       "       'OR', 'OR', 'OR', 'CG', 'CG', 'CG', 'CG', 'OR', 'OR', 'CG', 'CG',\n",
       "       'OR', 'CG', 'CG', 'OR', 'OR', 'CG', 'OR', 'CG', 'OR', 'CG', 'OR',\n",
       "       'CG', 'CG', 'OR', 'CG', 'OR', 'OR', 'CG', 'OR', 'CG', 'CG', 'OR',\n",
       "       'CG', 'OR', 'CG', 'OR', 'OR', 'CG', 'CG', 'CG', 'OR', 'CG', 'OR',\n",
       "       'CG', 'OR', 'CG', 'OR', 'CG', 'CG', 'OR', 'OR', 'OR', 'OR', 'OR',\n",
       "       'CG', 'OR', 'CG', 'CG', 'CG', 'CG', 'OR', 'OR', 'OR', 'CG', 'CG',\n",
       "       'OR', 'OR', 'OR', 'CG', 'OR', 'OR', 'CG', 'CG', 'CG', 'OR', 'CG',\n",
       "       'CG', 'CG', 'CG', 'OR', 'CG', 'CG', 'CG', 'CG', 'CG', 'OR'],\n",
       "      dtype=object)"
      ]
     },
     "execution_count": 125,
     "metadata": {},
     "output_type": "execute_result"
    }
   ],
   "source": [
    "dtree_pred = pipeline.predict(review_test)\n",
    "dtree_pred"
   ]
  },
  {
   "cell_type": "code",
   "execution_count": 126,
   "id": "c775e38e",
   "metadata": {},
   "outputs": [
    {
     "name": "stdout",
     "output_type": "stream",
     "text": [
      "Classification Report:               precision    recall  f1-score   support\n",
      "\n",
      "          CG       0.64      0.72      0.68       468\n",
      "          OR       0.73      0.64      0.68       532\n",
      "\n",
      "    accuracy                           0.68      1000\n",
      "   macro avg       0.68      0.68      0.68      1000\n",
      "weighted avg       0.69      0.68      0.68      1000\n",
      "\n",
      "Confusion Matrix: [[339 129]\n",
      " [191 341]]\n",
      "Accuracy Score: 0.68\n",
      "Model Prediction Accuracy: 68.0%\n"
     ]
    }
   ],
   "source": [
    "print('Classification Report:',classification_report(label_test,dtree_pred))\n",
    "print('Confusion Matrix:',confusion_matrix(label_test,dtree_pred))\n",
    "print('Accuracy Score:',accuracy_score(label_test,dtree_pred))\n",
    "print('Model Prediction Accuracy:',str(np.round(accuracy_score(label_test,dtree_pred)*100,2)) + '%')"
   ]
  },
  {
   "cell_type": "markdown",
   "id": "c16754d0",
   "metadata": {},
   "source": [
    "# KNeighborsClassifier"
   ]
  },
  {
   "cell_type": "code",
   "execution_count": 127,
   "id": "d2e130f7",
   "metadata": {},
   "outputs": [],
   "source": [
    "pipeline = Pipeline([\n",
    "    ('bow',CountVectorizer(analyzer=text_process)),\n",
    "    ('tfidf',TfidfTransformer()),\n",
    "    ('classifier',KNeighborsClassifier(n_neighbors=2))\n",
    "])"
   ]
  },
  {
   "cell_type": "code",
   "execution_count": 128,
   "id": "b014bfd6",
   "metadata": {},
   "outputs": [
    {
     "data": {
      "text/plain": [
       "Pipeline(steps=[('bow',\n",
       "                 CountVectorizer(analyzer=<function text_process at 0x000002306154DE50>)),\n",
       "                ('tfidf', TfidfTransformer()),\n",
       "                ('classifier', KNeighborsClassifier(n_neighbors=2))])"
      ]
     },
     "execution_count": 128,
     "metadata": {},
     "output_type": "execute_result"
    }
   ],
   "source": [
    "pipeline.fit(review_train,label_train)"
   ]
  },
  {
   "cell_type": "code",
   "execution_count": 129,
   "id": "af69506a",
   "metadata": {},
   "outputs": [
    {
     "data": {
      "text/plain": [
       "array(['CG', 'OR', 'CG', 'CG', 'CG', 'CG', 'OR', 'CG', 'CG', 'CG', 'CG',\n",
       "       'CG', 'OR', 'CG', 'CG', 'CG', 'CG', 'CG', 'CG', 'CG', 'OR', 'CG',\n",
       "       'CG', 'CG', 'OR', 'CG', 'CG', 'CG', 'CG', 'CG', 'CG', 'CG', 'OR',\n",
       "       'OR', 'CG', 'CG', 'CG', 'CG', 'CG', 'CG', 'CG', 'CG', 'OR', 'CG',\n",
       "       'CG', 'CG', 'CG', 'CG', 'CG', 'CG', 'CG', 'CG', 'CG', 'CG', 'CG',\n",
       "       'CG', 'OR', 'CG', 'CG', 'CG', 'CG', 'CG', 'CG', 'CG', 'CG', 'CG',\n",
       "       'OR', 'CG', 'CG', 'CG', 'OR', 'CG', 'CG', 'OR', 'CG', 'CG', 'CG',\n",
       "       'CG', 'CG', 'CG', 'CG', 'OR', 'CG', 'CG', 'CG', 'CG', 'CG', 'CG',\n",
       "       'OR', 'CG', 'CG', 'CG', 'CG', 'CG', 'OR', 'CG', 'CG', 'CG', 'CG',\n",
       "       'CG', 'CG', 'CG', 'CG', 'CG', 'OR', 'CG', 'CG', 'CG', 'CG', 'CG',\n",
       "       'CG', 'CG', 'OR', 'CG', 'CG', 'CG', 'CG', 'CG', 'CG', 'CG', 'CG',\n",
       "       'CG', 'OR', 'OR', 'CG', 'CG', 'CG', 'OR', 'CG', 'CG', 'CG', 'CG',\n",
       "       'CG', 'OR', 'CG', 'CG', 'CG', 'CG', 'CG', 'OR', 'OR', 'OR', 'CG',\n",
       "       'CG', 'CG', 'CG', 'CG', 'CG', 'CG', 'CG', 'CG', 'OR', 'CG', 'CG',\n",
       "       'CG', 'CG', 'OR', 'CG', 'CG', 'CG', 'CG', 'CG', 'CG', 'OR', 'CG',\n",
       "       'CG', 'CG', 'CG', 'CG', 'CG', 'CG', 'OR', 'CG', 'CG', 'CG', 'CG',\n",
       "       'CG', 'OR', 'CG', 'CG', 'CG', 'CG', 'CG', 'CG', 'CG', 'CG', 'CG',\n",
       "       'CG', 'CG', 'CG', 'CG', 'CG', 'CG', 'CG', 'CG', 'OR', 'CG', 'CG',\n",
       "       'OR', 'CG', 'CG', 'CG', 'CG', 'CG', 'CG', 'OR', 'OR', 'OR', 'CG',\n",
       "       'CG', 'CG', 'OR', 'CG', 'CG', 'CG', 'CG', 'CG', 'CG', 'CG', 'CG',\n",
       "       'CG', 'CG', 'CG', 'CG', 'CG', 'CG', 'CG', 'CG', 'CG', 'CG', 'CG',\n",
       "       'CG', 'CG', 'CG', 'OR', 'CG', 'CG', 'CG', 'OR', 'CG', 'CG', 'CG',\n",
       "       'CG', 'CG', 'CG', 'OR', 'CG', 'CG', 'CG', 'CG', 'CG', 'OR', 'CG',\n",
       "       'OR', 'CG', 'CG', 'CG', 'CG', 'CG', 'CG', 'CG', 'CG', 'CG', 'CG',\n",
       "       'OR', 'CG', 'CG', 'CG', 'CG', 'OR', 'CG', 'CG', 'CG', 'CG', 'CG',\n",
       "       'CG', 'CG', 'CG', 'CG', 'CG', 'CG', 'CG', 'CG', 'CG', 'CG', 'OR',\n",
       "       'OR', 'CG', 'CG', 'CG', 'CG', 'CG', 'CG', 'CG', 'CG', 'CG', 'CG',\n",
       "       'CG', 'OR', 'CG', 'CG', 'CG', 'CG', 'CG', 'CG', 'CG', 'CG', 'CG',\n",
       "       'CG', 'CG', 'CG', 'CG', 'CG', 'OR', 'CG', 'CG', 'CG', 'CG', 'CG',\n",
       "       'CG', 'CG', 'OR', 'OR', 'CG', 'CG', 'CG', 'CG', 'CG', 'CG', 'CG',\n",
       "       'CG', 'OR', 'CG', 'CG', 'CG', 'CG', 'OR', 'OR', 'CG', 'CG', 'CG',\n",
       "       'CG', 'CG', 'CG', 'CG', 'CG', 'CG', 'CG', 'CG', 'CG', 'CG', 'CG',\n",
       "       'CG', 'CG', 'OR', 'CG', 'CG', 'CG', 'CG', 'CG', 'CG', 'CG', 'OR',\n",
       "       'OR', 'CG', 'CG', 'CG', 'CG', 'CG', 'CG', 'CG', 'CG', 'CG', 'CG',\n",
       "       'CG', 'CG', 'CG', 'CG', 'CG', 'OR', 'CG', 'CG', 'CG', 'OR', 'CG',\n",
       "       'CG', 'OR', 'CG', 'CG', 'CG', 'CG', 'CG', 'CG', 'CG', 'CG', 'CG',\n",
       "       'CG', 'CG', 'CG', 'CG', 'CG', 'CG', 'CG', 'CG', 'CG', 'CG', 'CG',\n",
       "       'CG', 'CG', 'OR', 'CG', 'CG', 'CG', 'CG', 'CG', 'CG', 'CG', 'CG',\n",
       "       'CG', 'OR', 'CG', 'CG', 'CG', 'CG', 'CG', 'CG', 'CG', 'CG', 'CG',\n",
       "       'CG', 'CG', 'CG', 'CG', 'CG', 'CG', 'CG', 'CG', 'CG', 'CG', 'CG',\n",
       "       'CG', 'CG', 'CG', 'CG', 'CG', 'CG', 'CG', 'CG', 'CG', 'CG', 'OR',\n",
       "       'CG', 'OR', 'CG', 'OR', 'CG', 'OR', 'CG', 'OR', 'CG', 'CG', 'CG',\n",
       "       'CG', 'CG', 'CG', 'CG', 'OR', 'CG', 'CG', 'CG', 'CG', 'CG', 'CG',\n",
       "       'CG', 'CG', 'CG', 'CG', 'CG', 'CG', 'CG', 'CG', 'CG', 'CG', 'CG',\n",
       "       'CG', 'CG', 'CG', 'CG', 'CG', 'CG', 'CG', 'CG', 'OR', 'CG', 'CG',\n",
       "       'CG', 'CG', 'CG', 'OR', 'CG', 'CG', 'CG', 'CG', 'OR', 'CG', 'CG',\n",
       "       'CG', 'CG', 'CG', 'CG', 'CG', 'CG', 'CG', 'CG', 'CG', 'CG', 'CG',\n",
       "       'CG', 'CG', 'CG', 'CG', 'CG', 'CG', 'OR', 'CG', 'CG', 'CG', 'CG',\n",
       "       'CG', 'CG', 'CG', 'CG', 'CG', 'CG', 'CG', 'CG', 'CG', 'CG', 'CG',\n",
       "       'CG', 'CG', 'CG', 'CG', 'CG', 'CG', 'CG', 'CG', 'CG', 'CG', 'CG',\n",
       "       'CG', 'CG', 'CG', 'CG', 'CG', 'CG', 'CG', 'CG', 'CG', 'CG', 'CG',\n",
       "       'CG', 'CG', 'CG', 'CG', 'CG', 'CG', 'CG', 'CG', 'CG', 'CG', 'CG',\n",
       "       'CG', 'CG', 'OR', 'CG', 'CG', 'CG', 'CG', 'CG', 'CG', 'CG', 'CG',\n",
       "       'OR', 'CG', 'CG', 'CG', 'OR', 'CG', 'CG', 'CG', 'CG', 'CG', 'CG',\n",
       "       'CG', 'CG', 'CG', 'CG', 'CG', 'OR', 'OR', 'CG', 'CG', 'CG', 'CG',\n",
       "       'OR', 'CG', 'CG', 'CG', 'CG', 'CG', 'CG', 'CG', 'CG', 'CG', 'OR',\n",
       "       'CG', 'CG', 'CG', 'CG', 'CG', 'CG', 'CG', 'CG', 'CG', 'CG', 'CG',\n",
       "       'CG', 'CG', 'CG', 'CG', 'CG', 'CG', 'CG', 'CG', 'CG', 'CG', 'CG',\n",
       "       'CG', 'CG', 'CG', 'OR', 'CG', 'CG', 'CG', 'CG', 'CG', 'CG', 'CG',\n",
       "       'CG', 'OR', 'CG', 'OR', 'CG', 'CG', 'CG', 'CG', 'CG', 'CG', 'CG',\n",
       "       'CG', 'OR', 'OR', 'CG', 'OR', 'CG', 'OR', 'CG', 'OR', 'CG', 'CG',\n",
       "       'CG', 'OR', 'CG', 'CG', 'CG', 'CG', 'CG', 'CG', 'CG', 'CG', 'CG',\n",
       "       'CG', 'CG', 'CG', 'CG', 'CG', 'CG', 'CG', 'CG', 'CG', 'OR', 'CG',\n",
       "       'CG', 'CG', 'CG', 'CG', 'CG', 'CG', 'CG', 'CG', 'CG', 'CG', 'CG',\n",
       "       'CG', 'CG', 'CG', 'CG', 'CG', 'CG', 'CG', 'CG', 'CG', 'CG', 'OR',\n",
       "       'CG', 'CG', 'CG', 'CG', 'CG', 'CG', 'CG', 'CG', 'CG', 'CG', 'CG',\n",
       "       'CG', 'CG', 'CG', 'OR', 'CG', 'CG', 'OR', 'OR', 'CG', 'CG', 'CG',\n",
       "       'CG', 'CG', 'CG', 'CG', 'CG', 'CG', 'OR', 'CG', 'OR', 'OR', 'CG',\n",
       "       'CG', 'CG', 'CG', 'CG', 'CG', 'CG', 'CG', 'CG', 'CG', 'CG', 'CG',\n",
       "       'OR', 'CG', 'CG', 'CG', 'CG', 'CG', 'OR', 'CG', 'CG', 'OR', 'CG',\n",
       "       'CG', 'CG', 'CG', 'OR', 'CG', 'CG', 'CG', 'CG', 'CG', 'CG', 'CG',\n",
       "       'CG', 'CG', 'CG', 'CG', 'CG', 'CG', 'OR', 'CG', 'CG', 'CG', 'CG',\n",
       "       'CG', 'CG', 'CG', 'CG', 'OR', 'CG', 'CG', 'CG', 'CG', 'CG', 'OR',\n",
       "       'CG', 'CG', 'CG', 'CG', 'OR', 'CG', 'CG', 'CG', 'CG', 'OR', 'CG',\n",
       "       'CG', 'CG', 'CG', 'OR', 'CG', 'CG', 'CG', 'CG', 'CG', 'OR', 'OR',\n",
       "       'CG', 'CG', 'CG', 'CG', 'CG', 'CG', 'CG', 'CG', 'CG', 'CG', 'CG',\n",
       "       'CG', 'CG', 'OR', 'CG', 'OR', 'CG', 'OR', 'CG', 'CG', 'CG', 'CG',\n",
       "       'CG', 'OR', 'OR', 'CG', 'CG', 'CG', 'CG', 'CG', 'CG', 'CG', 'OR',\n",
       "       'CG', 'CG', 'CG', 'CG', 'CG', 'CG', 'CG', 'CG', 'CG', 'CG', 'OR',\n",
       "       'CG', 'CG', 'CG', 'CG', 'CG', 'CG', 'CG', 'CG', 'CG', 'CG', 'CG',\n",
       "       'CG', 'CG', 'CG', 'CG', 'OR', 'CG', 'CG', 'CG', 'CG', 'CG', 'OR',\n",
       "       'CG', 'CG', 'CG', 'CG', 'CG', 'CG', 'CG', 'CG', 'CG', 'CG', 'CG',\n",
       "       'CG', 'CG', 'CG', 'CG', 'CG', 'CG', 'CG', 'CG', 'CG', 'CG', 'OR',\n",
       "       'CG', 'OR', 'CG', 'CG', 'CG', 'OR', 'CG', 'CG', 'CG', 'CG', 'CG',\n",
       "       'CG', 'CG', 'CG', 'CG', 'CG', 'CG', 'CG', 'CG', 'CG', 'CG', 'CG',\n",
       "       'CG', 'CG', 'CG', 'CG', 'CG', 'CG', 'CG', 'CG', 'CG', 'CG', 'CG',\n",
       "       'CG', 'CG', 'CG', 'OR', 'CG', 'CG', 'CG', 'CG', 'CG', 'CG', 'OR',\n",
       "       'CG', 'CG', 'CG', 'CG', 'CG', 'CG', 'CG', 'CG', 'CG', 'CG', 'CG',\n",
       "       'CG', 'CG', 'CG', 'CG', 'OR', 'CG', 'CG', 'OR', 'CG', 'OR', 'CG',\n",
       "       'CG', 'OR', 'OR', 'CG', 'OR', 'CG', 'CG', 'CG', 'CG', 'CG', 'CG',\n",
       "       'CG', 'CG', 'CG', 'OR', 'OR', 'CG', 'CG', 'CG', 'CG', 'CG'],\n",
       "      dtype=object)"
      ]
     },
     "execution_count": 129,
     "metadata": {},
     "output_type": "execute_result"
    }
   ],
   "source": [
    "knn_pred = pipeline.predict(review_test)\n",
    "knn_pred"
   ]
  },
  {
   "cell_type": "code",
   "execution_count": 130,
   "id": "f9d23318",
   "metadata": {},
   "outputs": [
    {
     "name": "stdout",
     "output_type": "stream",
     "text": [
      "Classification Report:               precision    recall  f1-score   support\n",
      "\n",
      "          CG       0.51      0.95      0.66       468\n",
      "          OR       0.80      0.19      0.31       532\n",
      "\n",
      "    accuracy                           0.55      1000\n",
      "   macro avg       0.66      0.57      0.49      1000\n",
      "weighted avg       0.66      0.55      0.47      1000\n",
      "\n",
      "Confusion Matrix: [[443  25]\n",
      " [430 102]]\n",
      "Accuracy Score: 0.545\n",
      "Model Prediction Accuracy: 54.5%\n"
     ]
    }
   ],
   "source": [
    "print('Classification Report:',classification_report(label_test,knn_pred))\n",
    "print('Confusion Matrix:',confusion_matrix(label_test,knn_pred))\n",
    "print('Accuracy Score:',accuracy_score(label_test,knn_pred))\n",
    "print('Model Prediction Accuracy:',str(np.round(accuracy_score(label_test,knn_pred)*100,2)) + '%')\n",
    "    "
   ]
  },
  {
   "cell_type": "markdown",
   "id": "be60bb54",
   "metadata": {},
   "source": [
    "# SVC"
   ]
  },
  {
   "cell_type": "code",
   "execution_count": 131,
   "id": "411b3693",
   "metadata": {},
   "outputs": [],
   "source": [
    "pipeline = Pipeline([\n",
    "    ('bow',CountVectorizer(analyzer=text_process)),\n",
    "    ('tfidf',TfidfTransformer()),\n",
    "    ('classifier',SVC())\n",
    "])"
   ]
  },
  {
   "cell_type": "code",
   "execution_count": 132,
   "id": "d166fa0b",
   "metadata": {},
   "outputs": [
    {
     "data": {
      "text/plain": [
       "Pipeline(steps=[('bow',\n",
       "                 CountVectorizer(analyzer=<function text_process at 0x000002306154DE50>)),\n",
       "                ('tfidf', TfidfTransformer()), ('classifier', SVC())])"
      ]
     },
     "execution_count": 132,
     "metadata": {},
     "output_type": "execute_result"
    }
   ],
   "source": [
    "pipeline.fit(review_train,label_train)"
   ]
  },
  {
   "cell_type": "code",
   "execution_count": 133,
   "id": "6b1224c9",
   "metadata": {},
   "outputs": [
    {
     "data": {
      "text/plain": [
       "array(['OR', 'OR', 'OR', 'CG', 'OR', 'OR', 'OR', 'CG', 'CG', 'CG', 'CG',\n",
       "       'CG', 'OR', 'CG', 'OR', 'OR', 'CG', 'OR', 'OR', 'OR', 'OR', 'CG',\n",
       "       'CG', 'OR', 'CG', 'CG', 'CG', 'OR', 'CG', 'OR', 'OR', 'OR', 'OR',\n",
       "       'OR', 'OR', 'CG', 'OR', 'OR', 'OR', 'OR', 'CG', 'CG', 'OR', 'CG',\n",
       "       'CG', 'CG', 'OR', 'OR', 'CG', 'CG', 'CG', 'OR', 'OR', 'CG', 'OR',\n",
       "       'CG', 'OR', 'CG', 'CG', 'OR', 'OR', 'OR', 'CG', 'CG', 'CG', 'CG',\n",
       "       'OR', 'CG', 'OR', 'CG', 'OR', 'OR', 'CG', 'CG', 'OR', 'CG', 'OR',\n",
       "       'OR', 'CG', 'CG', 'OR', 'OR', 'OR', 'OR', 'CG', 'OR', 'OR', 'CG',\n",
       "       'OR', 'CG', 'OR', 'CG', 'CG', 'CG', 'OR', 'CG', 'CG', 'CG', 'CG',\n",
       "       'CG', 'CG', 'OR', 'OR', 'OR', 'OR', 'OR', 'CG', 'CG', 'OR', 'OR',\n",
       "       'OR', 'OR', 'OR', 'CG', 'CG', 'OR', 'CG', 'CG', 'CG', 'OR', 'OR',\n",
       "       'OR', 'OR', 'OR', 'CG', 'OR', 'CG', 'OR', 'OR', 'CG', 'OR', 'CG',\n",
       "       'OR', 'OR', 'OR', 'CG', 'CG', 'OR', 'OR', 'OR', 'OR', 'OR', 'OR',\n",
       "       'OR', 'OR', 'OR', 'CG', 'OR', 'CG', 'OR', 'CG', 'OR', 'OR', 'CG',\n",
       "       'CG', 'CG', 'OR', 'OR', 'CG', 'OR', 'OR', 'CG', 'CG', 'OR', 'OR',\n",
       "       'CG', 'OR', 'CG', 'CG', 'CG', 'CG', 'OR', 'OR', 'CG', 'CG', 'OR',\n",
       "       'CG', 'OR', 'CG', 'CG', 'OR', 'OR', 'OR', 'OR', 'CG', 'CG', 'CG',\n",
       "       'OR', 'CG', 'OR', 'OR', 'OR', 'OR', 'OR', 'OR', 'OR', 'CG', 'OR',\n",
       "       'OR', 'CG', 'OR', 'OR', 'CG', 'OR', 'CG', 'OR', 'OR', 'OR', 'CG',\n",
       "       'OR', 'CG', 'OR', 'CG', 'CG', 'CG', 'OR', 'OR', 'OR', 'OR', 'OR',\n",
       "       'CG', 'CG', 'OR', 'CG', 'CG', 'CG', 'CG', 'CG', 'OR', 'OR', 'CG',\n",
       "       'OR', 'CG', 'OR', 'OR', 'CG', 'OR', 'OR', 'OR', 'OR', 'CG', 'CG',\n",
       "       'CG', 'CG', 'CG', 'OR', 'CG', 'CG', 'OR', 'CG', 'OR', 'OR', 'CG',\n",
       "       'OR', 'CG', 'CG', 'CG', 'OR', 'CG', 'OR', 'OR', 'CG', 'CG', 'CG',\n",
       "       'OR', 'CG', 'CG', 'CG', 'CG', 'OR', 'OR', 'OR', 'CG', 'CG', 'OR',\n",
       "       'CG', 'CG', 'CG', 'CG', 'CG', 'OR', 'OR', 'CG', 'OR', 'OR', 'OR',\n",
       "       'OR', 'OR', 'OR', 'CG', 'CG', 'CG', 'OR', 'CG', 'OR', 'OR', 'OR',\n",
       "       'CG', 'CG', 'OR', 'CG', 'CG', 'OR', 'CG', 'OR', 'OR', 'CG', 'OR',\n",
       "       'OR', 'OR', 'OR', 'CG', 'CG', 'OR', 'OR', 'OR', 'CG', 'CG', 'OR',\n",
       "       'CG', 'CG', 'OR', 'OR', 'CG', 'CG', 'CG', 'CG', 'OR', 'OR', 'CG',\n",
       "       'OR', 'OR', 'CG', 'OR', 'CG', 'OR', 'OR', 'OR', 'CG', 'OR', 'OR',\n",
       "       'CG', 'CG', 'OR', 'OR', 'OR', 'OR', 'CG', 'OR', 'CG', 'CG', 'OR',\n",
       "       'CG', 'OR', 'OR', 'OR', 'OR', 'CG', 'CG', 'OR', 'CG', 'OR', 'OR',\n",
       "       'OR', 'OR', 'CG', 'CG', 'CG', 'OR', 'CG', 'CG', 'OR', 'OR', 'OR',\n",
       "       'OR', 'OR', 'OR', 'OR', 'OR', 'OR', 'OR', 'OR', 'CG', 'OR', 'OR',\n",
       "       'CG', 'OR', 'OR', 'OR', 'CG', 'CG', 'CG', 'OR', 'OR', 'OR', 'OR',\n",
       "       'CG', 'OR', 'CG', 'CG', 'CG', 'CG', 'OR', 'CG', 'CG', 'OR', 'CG',\n",
       "       'CG', 'OR', 'OR', 'OR', 'CG', 'OR', 'CG', 'CG', 'CG', 'CG', 'CG',\n",
       "       'CG', 'OR', 'CG', 'OR', 'CG', 'CG', 'CG', 'OR', 'CG', 'OR', 'OR',\n",
       "       'CG', 'CG', 'OR', 'OR', 'OR', 'OR', 'CG', 'OR', 'CG', 'OR', 'CG',\n",
       "       'CG', 'OR', 'OR', 'OR', 'CG', 'CG', 'OR', 'CG', 'CG', 'OR', 'OR',\n",
       "       'OR', 'OR', 'OR', 'OR', 'OR', 'OR', 'CG', 'OR', 'CG', 'CG', 'CG',\n",
       "       'CG', 'OR', 'CG', 'CG', 'OR', 'OR', 'CG', 'CG', 'CG', 'CG', 'OR',\n",
       "       'OR', 'OR', 'CG', 'OR', 'OR', 'CG', 'CG', 'CG', 'OR', 'CG', 'CG',\n",
       "       'OR', 'CG', 'CG', 'OR', 'CG', 'OR', 'OR', 'OR', 'OR', 'CG', 'OR',\n",
       "       'OR', 'OR', 'CG', 'OR', 'CG', 'OR', 'CG', 'CG', 'OR', 'OR', 'CG',\n",
       "       'OR', 'OR', 'CG', 'CG', 'OR', 'OR', 'OR', 'CG', 'OR', 'OR', 'CG',\n",
       "       'CG', 'CG', 'OR', 'CG', 'CG', 'CG', 'OR', 'CG', 'CG', 'CG', 'OR',\n",
       "       'CG', 'CG', 'CG', 'CG', 'OR', 'CG', 'CG', 'OR', 'OR', 'CG', 'OR',\n",
       "       'OR', 'CG', 'CG', 'OR', 'OR', 'CG', 'CG', 'CG', 'OR', 'CG', 'OR',\n",
       "       'OR', 'OR', 'OR', 'CG', 'CG', 'CG', 'OR', 'CG', 'CG', 'OR', 'OR',\n",
       "       'CG', 'CG', 'OR', 'CG', 'CG', 'CG', 'OR', 'CG', 'CG', 'OR', 'OR',\n",
       "       'CG', 'CG', 'OR', 'OR', 'CG', 'OR', 'CG', 'OR', 'CG', 'CG', 'CG',\n",
       "       'OR', 'CG', 'CG', 'CG', 'OR', 'CG', 'OR', 'CG', 'CG', 'CG', 'OR',\n",
       "       'CG', 'CG', 'OR', 'CG', 'CG', 'OR', 'OR', 'CG', 'CG', 'CG', 'OR',\n",
       "       'OR', 'OR', 'CG', 'OR', 'OR', 'CG', 'CG', 'CG', 'CG', 'OR', 'OR',\n",
       "       'CG', 'OR', 'OR', 'CG', 'CG', 'OR', 'OR', 'OR', 'OR', 'CG', 'OR',\n",
       "       'OR', 'CG', 'OR', 'CG', 'CG', 'CG', 'OR', 'CG', 'CG', 'OR', 'OR',\n",
       "       'CG', 'OR', 'OR', 'OR', 'OR', 'CG', 'CG', 'CG', 'OR', 'CG', 'OR',\n",
       "       'CG', 'OR', 'OR', 'OR', 'OR', 'OR', 'CG', 'CG', 'OR', 'OR', 'CG',\n",
       "       'CG', 'OR', 'OR', 'OR', 'OR', 'CG', 'OR', 'OR', 'OR', 'CG', 'CG',\n",
       "       'OR', 'OR', 'OR', 'OR', 'OR', 'OR', 'OR', 'OR', 'OR', 'OR', 'OR',\n",
       "       'OR', 'CG', 'OR', 'OR', 'OR', 'CG', 'CG', 'CG', 'OR', 'OR', 'CG',\n",
       "       'OR', 'OR', 'CG', 'CG', 'OR', 'OR', 'CG', 'CG', 'CG', 'OR', 'CG',\n",
       "       'OR', 'OR', 'CG', 'CG', 'CG', 'OR', 'CG', 'CG', 'OR', 'OR', 'CG',\n",
       "       'CG', 'OR', 'OR', 'CG', 'CG', 'CG', 'CG', 'OR', 'CG', 'CG', 'OR',\n",
       "       'OR', 'CG', 'OR', 'OR', 'OR', 'OR', 'OR', 'OR', 'CG', 'OR', 'OR',\n",
       "       'CG', 'OR', 'CG', 'CG', 'CG', 'CG', 'OR', 'CG', 'CG', 'OR', 'OR',\n",
       "       'OR', 'CG', 'CG', 'CG', 'OR', 'CG', 'OR', 'CG', 'CG', 'CG', 'CG',\n",
       "       'CG', 'CG', 'CG', 'CG', 'CG', 'CG', 'OR', 'OR', 'OR', 'OR', 'CG',\n",
       "       'OR', 'CG', 'OR', 'OR', 'CG', 'CG', 'OR', 'OR', 'CG', 'OR', 'CG',\n",
       "       'CG', 'CG', 'CG', 'CG', 'OR', 'OR', 'OR', 'OR', 'CG', 'CG', 'OR',\n",
       "       'OR', 'CG', 'OR', 'CG', 'OR', 'OR', 'OR', 'CG', 'OR', 'CG', 'OR',\n",
       "       'OR', 'CG', 'CG', 'CG', 'OR', 'OR', 'OR', 'CG', 'CG', 'OR', 'CG',\n",
       "       'OR', 'OR', 'CG', 'OR', 'CG', 'OR', 'CG', 'OR', 'OR', 'OR', 'OR',\n",
       "       'OR', 'CG', 'OR', 'CG', 'CG', 'OR', 'CG', 'CG', 'OR', 'OR', 'CG',\n",
       "       'OR', 'CG', 'OR', 'CG', 'OR', 'OR', 'OR', 'OR', 'CG', 'CG', 'CG',\n",
       "       'CG', 'OR', 'CG', 'OR', 'CG', 'CG', 'OR', 'OR', 'OR', 'CG', 'OR',\n",
       "       'OR', 'OR', 'OR', 'OR', 'CG', 'OR', 'CG', 'OR', 'CG', 'CG', 'OR',\n",
       "       'CG', 'OR', 'CG', 'OR', 'OR', 'CG', 'OR', 'OR', 'CG', 'OR', 'CG',\n",
       "       'CG', 'CG', 'CG', 'OR', 'OR', 'CG', 'CG', 'OR', 'OR', 'CG', 'OR',\n",
       "       'CG', 'CG', 'CG', 'CG', 'CG', 'OR', 'OR', 'CG', 'CG', 'CG', 'CG',\n",
       "       'OR', 'CG', 'OR', 'OR', 'CG', 'CG', 'OR', 'OR', 'OR', 'OR', 'OR',\n",
       "       'OR', 'OR', 'OR', 'CG', 'OR', 'OR', 'OR', 'CG', 'CG', 'CG', 'CG',\n",
       "       'OR', 'CG', 'CG', 'OR', 'CG', 'OR', 'OR', 'CG', 'CG', 'CG', 'OR',\n",
       "       'OR', 'CG', 'OR', 'OR', 'OR', 'OR', 'OR', 'OR', 'CG', 'OR', 'OR',\n",
       "       'OR', 'CG', 'OR', 'OR', 'OR', 'CG', 'CG', 'CG', 'CG', 'CG', 'CG',\n",
       "       'CG', 'OR', 'CG', 'OR', 'CG', 'CG', 'CG', 'OR', 'OR', 'OR', 'OR',\n",
       "       'CG', 'OR', 'CG', 'CG', 'OR', 'CG', 'OR', 'OR', 'OR', 'OR', 'CG',\n",
       "       'OR', 'OR', 'OR', 'CG', 'OR', 'OR', 'CG', 'CG', 'OR', 'OR', 'CG',\n",
       "       'OR', 'OR', 'CG', 'OR', 'OR', 'CG', 'OR', 'OR', 'CG', 'OR'],\n",
       "      dtype=object)"
      ]
     },
     "execution_count": 133,
     "metadata": {},
     "output_type": "execute_result"
    }
   ],
   "source": [
    "svc_pred = pipeline.predict(review_test)\n",
    "svc_pred"
   ]
  },
  {
   "cell_type": "code",
   "execution_count": 134,
   "id": "fb5086a5",
   "metadata": {},
   "outputs": [
    {
     "name": "stdout",
     "output_type": "stream",
     "text": [
      "Classification Report:               precision    recall  f1-score   support\n",
      "\n",
      "          CG       0.76      0.77      0.77       468\n",
      "          OR       0.80      0.79      0.79       532\n",
      "\n",
      "    accuracy                           0.78      1000\n",
      "   macro avg       0.78      0.78      0.78      1000\n",
      "weighted avg       0.78      0.78      0.78      1000\n",
      "\n",
      "Confusion Matrix: [[360 108]\n",
      " [111 421]]\n",
      "Accuracy Score: 0.781\n",
      "Model Prediction Accuracy: 78.1%\n"
     ]
    }
   ],
   "source": [
    "print('Classification Report:',classification_report(label_test,svc_pred))\n",
    "print('Confusion Matrix:',confusion_matrix(label_test,svc_pred))\n",
    "print('Accuracy Score:',accuracy_score(label_test,svc_pred))\n",
    "print('Model Prediction Accuracy:',str(np.round(accuracy_score(label_test,svc_pred)*100,2)) + '%')"
   ]
  },
  {
   "cell_type": "code",
   "execution_count": 135,
   "id": "fe899074",
   "metadata": {},
   "outputs": [],
   "source": [
    "pipeline = Pipeline([\n",
    "    ('bow',CountVectorizer(analyzer=text_process)),\n",
    "    ('tfidf',TfidfTransformer()),\n",
    "    ('classifier',LogisticRegression())\n",
    "])"
   ]
  },
  {
   "cell_type": "code",
   "execution_count": 136,
   "id": "c0daa08e",
   "metadata": {},
   "outputs": [
    {
     "data": {
      "text/plain": [
       "Pipeline(steps=[('bow',\n",
       "                 CountVectorizer(analyzer=<function text_process at 0x000002306154DE50>)),\n",
       "                ('tfidf', TfidfTransformer()),\n",
       "                ('classifier', LogisticRegression())])"
      ]
     },
     "execution_count": 136,
     "metadata": {},
     "output_type": "execute_result"
    }
   ],
   "source": [
    "pipeline.fit(review_train,label_train)"
   ]
  },
  {
   "cell_type": "code",
   "execution_count": 142,
   "id": "087b741a",
   "metadata": {},
   "outputs": [
    {
     "data": {
      "text/plain": [
       "array(['OR', 'OR', 'OR', 'OR', 'OR', 'OR', 'OR', 'CG', 'CG', 'CG', 'CG',\n",
       "       'CG', 'OR', 'CG', 'OR', 'OR', 'CG', 'OR', 'OR', 'OR', 'CG', 'CG',\n",
       "       'CG', 'OR', 'CG', 'CG', 'CG', 'OR', 'CG', 'OR', 'OR', 'OR', 'OR',\n",
       "       'OR', 'OR', 'CG', 'OR', 'OR', 'OR', 'OR', 'CG', 'CG', 'OR', 'CG',\n",
       "       'CG', 'CG', 'OR', 'OR', 'CG', 'CG', 'CG', 'OR', 'CG', 'OR', 'OR',\n",
       "       'CG', 'OR', 'CG', 'CG', 'CG', 'CG', 'OR', 'CG', 'CG', 'CG', 'CG',\n",
       "       'OR', 'CG', 'CG', 'CG', 'OR', 'CG', 'CG', 'CG', 'OR', 'CG', 'OR',\n",
       "       'OR', 'CG', 'CG', 'OR', 'OR', 'CG', 'OR', 'CG', 'OR', 'OR', 'CG',\n",
       "       'OR', 'CG', 'OR', 'CG', 'CG', 'CG', 'OR', 'CG', 'CG', 'CG', 'CG',\n",
       "       'CG', 'CG', 'CG', 'CG', 'OR', 'OR', 'OR', 'CG', 'CG', 'OR', 'OR',\n",
       "       'OR', 'OR', 'OR', 'CG', 'CG', 'OR', 'CG', 'CG', 'CG', 'OR', 'OR',\n",
       "       'OR', 'OR', 'OR', 'CG', 'OR', 'CG', 'OR', 'OR', 'CG', 'OR', 'CG',\n",
       "       'OR', 'OR', 'OR', 'CG', 'CG', 'OR', 'OR', 'OR', 'OR', 'OR', 'OR',\n",
       "       'OR', 'OR', 'OR', 'CG', 'OR', 'CG', 'CG', 'CG', 'OR', 'OR', 'CG',\n",
       "       'CG', 'CG', 'OR', 'OR', 'CG', 'OR', 'OR', 'CG', 'CG', 'OR', 'CG',\n",
       "       'CG', 'OR', 'CG', 'CG', 'CG', 'CG', 'OR', 'OR', 'CG', 'CG', 'OR',\n",
       "       'CG', 'OR', 'CG', 'CG', 'CG', 'OR', 'OR', 'OR', 'CG', 'CG', 'CG',\n",
       "       'OR', 'CG', 'OR', 'OR', 'OR', 'OR', 'CG', 'CG', 'OR', 'CG', 'OR',\n",
       "       'OR', 'CG', 'OR', 'OR', 'CG', 'CG', 'CG', 'OR', 'OR', 'OR', 'CG',\n",
       "       'OR', 'CG', 'OR', 'CG', 'CG', 'CG', 'OR', 'OR', 'OR', 'CG', 'OR',\n",
       "       'CG', 'CG', 'CG', 'CG', 'CG', 'CG', 'CG', 'CG', 'OR', 'OR', 'CG',\n",
       "       'OR', 'CG', 'OR', 'OR', 'CG', 'OR', 'OR', 'OR', 'OR', 'CG', 'CG',\n",
       "       'CG', 'CG', 'CG', 'OR', 'CG', 'CG', 'OR', 'CG', 'OR', 'CG', 'CG',\n",
       "       'OR', 'CG', 'CG', 'CG', 'OR', 'CG', 'OR', 'OR', 'CG', 'CG', 'CG',\n",
       "       'CG', 'CG', 'CG', 'CG', 'CG', 'OR', 'OR', 'OR', 'CG', 'CG', 'CG',\n",
       "       'CG', 'CG', 'CG', 'CG', 'CG', 'OR', 'OR', 'CG', 'OR', 'OR', 'OR',\n",
       "       'OR', 'OR', 'OR', 'CG', 'CG', 'CG', 'OR', 'CG', 'OR', 'OR', 'OR',\n",
       "       'CG', 'CG', 'OR', 'CG', 'CG', 'OR', 'CG', 'CG', 'OR', 'CG', 'OR',\n",
       "       'OR', 'OR', 'OR', 'CG', 'CG', 'OR', 'OR', 'OR', 'CG', 'CG', 'OR',\n",
       "       'CG', 'CG', 'OR', 'OR', 'CG', 'CG', 'CG', 'CG', 'OR', 'OR', 'CG',\n",
       "       'OR', 'OR', 'CG', 'OR', 'CG', 'OR', 'CG', 'OR', 'CG', 'OR', 'OR',\n",
       "       'CG', 'CG', 'OR', 'OR', 'OR', 'OR', 'CG', 'OR', 'CG', 'CG', 'OR',\n",
       "       'CG', 'OR', 'OR', 'OR', 'OR', 'CG', 'CG', 'OR', 'CG', 'OR', 'OR',\n",
       "       'OR', 'OR', 'CG', 'OR', 'CG', 'OR', 'CG', 'CG', 'OR', 'OR', 'OR',\n",
       "       'OR', 'OR', 'OR', 'OR', 'OR', 'OR', 'CG', 'OR', 'CG', 'OR', 'OR',\n",
       "       'CG', 'OR', 'OR', 'OR', 'CG', 'CG', 'CG', 'OR', 'OR', 'OR', 'CG',\n",
       "       'CG', 'CG', 'CG', 'CG', 'CG', 'CG', 'OR', 'CG', 'CG', 'OR', 'CG',\n",
       "       'CG', 'OR', 'OR', 'OR', 'CG', 'OR', 'CG', 'CG', 'CG', 'CG', 'CG',\n",
       "       'CG', 'OR', 'CG', 'OR', 'CG', 'CG', 'CG', 'OR', 'CG', 'OR', 'OR',\n",
       "       'CG', 'CG', 'OR', 'OR', 'OR', 'OR', 'CG', 'OR', 'CG', 'OR', 'CG',\n",
       "       'CG', 'OR', 'OR', 'OR', 'OR', 'CG', 'OR', 'CG', 'CG', 'OR', 'OR',\n",
       "       'OR', 'OR', 'OR', 'OR', 'OR', 'OR', 'CG', 'OR', 'CG', 'CG', 'CG',\n",
       "       'CG', 'OR', 'CG', 'OR', 'OR', 'OR', 'CG', 'CG', 'CG', 'CG', 'OR',\n",
       "       'OR', 'OR', 'CG', 'OR', 'OR', 'CG', 'CG', 'CG', 'OR', 'CG', 'CG',\n",
       "       'OR', 'CG', 'CG', 'CG', 'CG', 'CG', 'OR', 'OR', 'OR', 'CG', 'OR',\n",
       "       'OR', 'OR', 'CG', 'CG', 'CG', 'OR', 'CG', 'CG', 'CG', 'OR', 'CG',\n",
       "       'OR', 'CG', 'CG', 'CG', 'OR', 'OR', 'OR', 'CG', 'OR', 'OR', 'CG',\n",
       "       'CG', 'CG', 'OR', 'CG', 'CG', 'CG', 'OR', 'CG', 'CG', 'CG', 'OR',\n",
       "       'CG', 'CG', 'CG', 'CG', 'OR', 'OR', 'CG', 'OR', 'OR', 'CG', 'OR',\n",
       "       'OR', 'CG', 'CG', 'OR', 'OR', 'CG', 'CG', 'CG', 'OR', 'CG', 'OR',\n",
       "       'OR', 'OR', 'OR', 'CG', 'CG', 'CG', 'OR', 'CG', 'CG', 'OR', 'CG',\n",
       "       'CG', 'CG', 'CG', 'CG', 'CG', 'CG', 'OR', 'CG', 'CG', 'OR', 'OR',\n",
       "       'CG', 'CG', 'OR', 'OR', 'CG', 'OR', 'CG', 'CG', 'CG', 'CG', 'CG',\n",
       "       'OR', 'CG', 'CG', 'CG', 'OR', 'CG', 'OR', 'CG', 'CG', 'CG', 'OR',\n",
       "       'CG', 'CG', 'OR', 'CG', 'CG', 'OR', 'OR', 'CG', 'CG', 'CG', 'OR',\n",
       "       'OR', 'OR', 'CG', 'OR', 'OR', 'CG', 'CG', 'CG', 'OR', 'OR', 'OR',\n",
       "       'CG', 'OR', 'CG', 'CG', 'CG', 'OR', 'OR', 'OR', 'OR', 'CG', 'OR',\n",
       "       'OR', 'CG', 'OR', 'CG', 'CG', 'CG', 'OR', 'CG', 'CG', 'OR', 'OR',\n",
       "       'CG', 'OR', 'OR', 'OR', 'OR', 'CG', 'CG', 'CG', 'OR', 'CG', 'CG',\n",
       "       'CG', 'OR', 'OR', 'OR', 'CG', 'OR', 'CG', 'CG', 'OR', 'OR', 'CG',\n",
       "       'CG', 'OR', 'OR', 'OR', 'OR', 'CG', 'OR', 'CG', 'OR', 'CG', 'CG',\n",
       "       'OR', 'OR', 'OR', 'OR', 'OR', 'OR', 'OR', 'CG', 'OR', 'OR', 'OR',\n",
       "       'OR', 'CG', 'OR', 'OR', 'OR', 'CG', 'CG', 'CG', 'OR', 'CG', 'CG',\n",
       "       'OR', 'OR', 'CG', 'CG', 'OR', 'OR', 'CG', 'CG', 'CG', 'OR', 'CG',\n",
       "       'OR', 'CG', 'CG', 'CG', 'CG', 'CG', 'CG', 'CG', 'OR', 'OR', 'CG',\n",
       "       'CG', 'OR', 'CG', 'CG', 'CG', 'CG', 'CG', 'OR', 'CG', 'CG', 'OR',\n",
       "       'CG', 'CG', 'OR', 'OR', 'OR', 'OR', 'OR', 'OR', 'CG', 'OR', 'OR',\n",
       "       'CG', 'OR', 'CG', 'CG', 'CG', 'CG', 'OR', 'CG', 'CG', 'OR', 'CG',\n",
       "       'CG', 'CG', 'CG', 'CG', 'OR', 'CG', 'OR', 'CG', 'CG', 'CG', 'CG',\n",
       "       'CG', 'CG', 'CG', 'CG', 'CG', 'CG', 'OR', 'OR', 'OR', 'OR', 'CG',\n",
       "       'OR', 'CG', 'OR', 'OR', 'CG', 'CG', 'OR', 'CG', 'CG', 'OR', 'CG',\n",
       "       'CG', 'CG', 'CG', 'CG', 'CG', 'OR', 'OR', 'OR', 'CG', 'CG', 'OR',\n",
       "       'OR', 'OR', 'OR', 'CG', 'OR', 'OR', 'OR', 'CG', 'OR', 'CG', 'OR',\n",
       "       'OR', 'CG', 'CG', 'CG', 'OR', 'OR', 'OR', 'CG', 'CG', 'OR', 'CG',\n",
       "       'OR', 'OR', 'CG', 'OR', 'CG', 'OR', 'CG', 'OR', 'OR', 'OR', 'OR',\n",
       "       'CG', 'CG', 'OR', 'CG', 'CG', 'OR', 'CG', 'CG', 'OR', 'CG', 'CG',\n",
       "       'OR', 'CG', 'CG', 'CG', 'OR', 'OR', 'OR', 'CG', 'CG', 'CG', 'CG',\n",
       "       'CG', 'OR', 'CG', 'OR', 'CG', 'CG', 'OR', 'OR', 'OR', 'CG', 'OR',\n",
       "       'OR', 'OR', 'OR', 'OR', 'CG', 'OR', 'CG', 'OR', 'CG', 'CG', 'CG',\n",
       "       'CG', 'CG', 'CG', 'OR', 'OR', 'CG', 'OR', 'OR', 'CG', 'CG', 'CG',\n",
       "       'CG', 'CG', 'CG', 'OR', 'OR', 'CG', 'CG', 'CG', 'CG', 'CG', 'OR',\n",
       "       'CG', 'CG', 'CG', 'CG', 'CG', 'OR', 'OR', 'CG', 'CG', 'CG', 'CG',\n",
       "       'OR', 'CG', 'OR', 'OR', 'CG', 'CG', 'OR', 'OR', 'OR', 'OR', 'OR',\n",
       "       'OR', 'OR', 'OR', 'CG', 'OR', 'OR', 'OR', 'CG', 'CG', 'CG', 'CG',\n",
       "       'OR', 'CG', 'CG', 'CG', 'CG', 'CG', 'CG', 'CG', 'CG', 'CG', 'OR',\n",
       "       'OR', 'CG', 'CG', 'OR', 'OR', 'OR', 'OR', 'OR', 'CG', 'OR', 'OR',\n",
       "       'OR', 'CG', 'OR', 'OR', 'OR', 'CG', 'CG', 'CG', 'CG', 'CG', 'CG',\n",
       "       'CG', 'OR', 'CG', 'OR', 'CG', 'CG', 'CG', 'OR', 'OR', 'OR', 'CG',\n",
       "       'CG', 'OR', 'CG', 'CG', 'OR', 'CG', 'OR', 'OR', 'OR', 'OR', 'CG',\n",
       "       'OR', 'OR', 'OR', 'CG', 'OR', 'OR', 'CG', 'CG', 'OR', 'OR', 'CG',\n",
       "       'OR', 'OR', 'CG', 'OR', 'OR', 'CG', 'OR', 'CG', 'CG', 'CG'],\n",
       "      dtype=object)"
      ]
     },
     "execution_count": 142,
     "metadata": {},
     "output_type": "execute_result"
    }
   ],
   "source": [
    "lr_pred = pipeline.predict(review_test)\n",
    "lr_pred"
   ]
  },
  {
   "cell_type": "code",
   "execution_count": 138,
   "id": "a992daa6",
   "metadata": {},
   "outputs": [
    {
     "name": "stdout",
     "output_type": "stream",
     "text": [
      "Classification Report:               precision    recall  f1-score   support\n",
      "\n",
      "          CG       0.72      0.81      0.76       468\n",
      "          OR       0.81      0.72      0.76       532\n",
      "\n",
      "    accuracy                           0.76      1000\n",
      "   macro avg       0.76      0.76      0.76      1000\n",
      "weighted avg       0.77      0.76      0.76      1000\n",
      "\n",
      "Confusion Matrix: [[378  90]\n",
      " [148 384]]\n",
      "Accuracy Score: 0.762\n",
      "Model Prediction Accuracy: 76.2%\n"
     ]
    }
   ],
   "source": [
    "print('Classification Report:',classification_report(label_test,lr_pred))\n",
    "print('Confusion Matrix:',confusion_matrix(label_test,lr_pred))\n",
    "print('Accuracy Score:',accuracy_score(label_test,lr_pred))\n",
    "print('Model Prediction Accuracy:',str(np.round(accuracy_score(label_test,lr_pred)*100,2)) + '%')"
   ]
  },
  {
   "cell_type": "code",
   "execution_count": null,
   "id": "a442fecd",
   "metadata": {},
   "outputs": [],
   "source": []
  },
  {
   "cell_type": "markdown",
   "id": "47978a82",
   "metadata": {},
   "source": [
    "# Conclusion"
   ]
  },
  {
   "cell_type": "code",
   "execution_count": 139,
   "id": "d092c25e",
   "metadata": {},
   "outputs": [
    {
     "name": "stdout",
     "output_type": "stream",
     "text": [
      "Performance of various ML models:\n",
      "\n",
      "\n",
      "Logistic Regression Prediction Accuracy: 76.2%\n",
      "K Nearest Neighbors Prediction Accuracy: 54.5%\n",
      "Decision Tree Classifier Prediction Accuracy: 68.0%\n",
      "Random Forests Classifier Prediction Accuracy: 71.7%\n",
      "Support Vector Machines Prediction Accuracy: 78.1%\n",
      "Multinomial Naive Bayes Prediction Accuracy: 64.7%\n"
     ]
    }
   ],
   "source": [
    "print('Performance of various ML models:')\n",
    "print('\\n')\n",
    "print('Logistic Regression Prediction Accuracy:',str(np.round(accuracy_score(label_test,lr_pred)*100,2)) + '%')\n",
    "print('K Nearest Neighbors Prediction Accuracy:',str(np.round(accuracy_score(label_test,knn_pred)*100,2)) + '%')\n",
    "print('Decision Tree Classifier Prediction Accuracy:',str(np.round(accuracy_score(label_test,dtree_pred)*100,2)) + '%')\n",
    "print('Random Forests Classifier Prediction Accuracy:',str(np.round(accuracy_score(label_test,rfc_pred)*100,2)) + '%')\n",
    "print('Support Vector Machines Prediction Accuracy:',str(np.round(accuracy_score(label_test,svc_pred)*100,2)) + '%')\n",
    "print('Multinomial Naive Bayes Prediction Accuracy:',str(np.round(accuracy_score(label_test,MultNB)*100,2)) + '%')"
   ]
  },
  {
   "cell_type": "code",
   "execution_count": null,
   "id": "25c1348e",
   "metadata": {},
   "outputs": [],
   "source": []
  }
 ],
 "metadata": {
  "kernelspec": {
   "display_name": "Python 3 (ipykernel)",
   "language": "python",
   "name": "python3"
  },
  "language_info": {
   "codemirror_mode": {
    "name": "ipython",
    "version": 3
   },
   "file_extension": ".py",
   "mimetype": "text/x-python",
   "name": "python",
   "nbconvert_exporter": "python",
   "pygments_lexer": "ipython3",
   "version": "3.9.13"
  }
 },
 "nbformat": 4,
 "nbformat_minor": 5
}
